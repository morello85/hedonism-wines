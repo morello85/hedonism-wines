{
 "cells": [
  {
   "cell_type": "markdown",
   "id": "efd46a57",
   "metadata": {},
   "source": [
    "Readme\n",
    "\n",
    "This project aims to spot opportunities to buy from hedonism wines when a price item is the lowest.\n",
    "To achieve this I will use:\n",
    "\n",
    "- A duckdb instance and then RDS to save the data every day\n",
    "- streamlit to visualise the results of a few simple queries\n",
    "- heroku to host a simple app\n",
    "- A scheduler to download a daily copy of the hedonism wines full stock list\n",
    "- create an alert (tech tbc) to send an email when an items drops by a certain percentage"
   ]
  },
  {
   "cell_type": "markdown",
   "id": "1714478d",
   "metadata": {},
   "source": [
    "### To Do"
   ]
  },
  {
   "cell_type": "markdown",
   "id": "06108ed5",
   "metadata": {},
   "source": [
    "1. Save files in S3\n",
    "2. Load files into an RDS table\n",
    "3. Connect RDS to Heroku as external db"
   ]
  },
  {
   "cell_type": "code",
   "execution_count": 1,
   "id": "5739bf9c",
   "metadata": {},
   "outputs": [],
   "source": [
    "import pandas as pd\n",
    "import numpy as np\n",
    "import requests\n",
    "import streamlit as st\n",
    "import os\n",
    "from io import StringIO\n",
    "from datetime import datetime\n",
    "from pandasql import sqldf\n",
    "import matplotlib.pyplot as plt\n",
    "from sqlalchemy import create_engine\n",
    "import duckdb\n",
    "import altair as alt"
   ]
  },
  {
   "cell_type": "markdown",
   "id": "5b519b61",
   "metadata": {},
   "source": [
    "### Import multiple static files"
   ]
  },
  {
   "cell_type": "code",
   "execution_count": 3,
   "id": "e78d372a",
   "metadata": {},
   "outputs": [],
   "source": [
    "import pandas as pd\n",
    "import os\n",
    "\n",
    "# Directory containing the CSV files\n",
    "folder_path = '/Users/MacUser/hedonism-wines_app/data/'\n",
    "\n",
    "# List to store DataFrames\n",
    "dfs = []\n",
    "\n",
    "# Loop through files in the folder\n",
    "for file_name in os.listdir(folder_path):\n",
    "    if file_name.endswith('.csv'):\n",
    "        # Extract date from file name\n",
    "        file_date = file_name.split('.')[0]  # remove '.csv' extension\n",
    "        file_date = file_date.split('_')      # split by underscore\n",
    "\n",
    "        import_date = '-'.join(file_date)    # join with hyphen\n",
    "\n",
    "        # Construct the full file path\n",
    "        file_path = os.path.join(folder_path, file_name)\n",
    "        \n",
    "        # Read the CSV file into a DataFrame\n",
    "        df = pd.read_csv(file_path)\n",
    "        \n",
    "        \n",
    "        # Add import_date column with the extracted date\n",
    "        df['import_date'] = import_date\n",
    "        \n",
    "        # Append the DataFrame to the list\n",
    "        dfs.append(df)\n",
    "\n",
    "# Concatenate all DataFrames into a single DataFrame\n",
    "combined_df = pd.concat(dfs, ignore_index=True)\n",
    "\n",
    "# Now you have a single DataFrame 'combined_df' containing data from all CSV files.\n"
   ]
  },
  {
   "cell_type": "code",
   "execution_count": 26,
   "id": "fd377cc4",
   "metadata": {},
   "outputs": [
    {
     "data": {
      "text/html": [
       "<div>\n",
       "<style scoped>\n",
       "    .dataframe tbody tr th:only-of-type {\n",
       "        vertical-align: middle;\n",
       "    }\n",
       "\n",
       "    .dataframe tbody tr th {\n",
       "        vertical-align: top;\n",
       "    }\n",
       "\n",
       "    .dataframe thead th {\n",
       "        text-align: right;\n",
       "    }\n",
       "</style>\n",
       "<table border=\"1\" class=\"dataframe\">\n",
       "  <thead>\n",
       "    <tr style=\"text-align: right;\">\n",
       "      <th></th>\n",
       "      <th>Code</th>\n",
       "      <th>Title</th>\n",
       "      <th>Size</th>\n",
       "      <th>Style</th>\n",
       "      <th>Country</th>\n",
       "      <th>Group</th>\n",
       "      <th>Available</th>\n",
       "      <th>Price (GBP)</th>\n",
       "      <th>import_date</th>\n",
       "    </tr>\n",
       "  </thead>\n",
       "  <tbody>\n",
       "    <tr>\n",
       "      <th>0</th>\n",
       "      <td>HED0017</td>\n",
       "      <td>Baron Rothschild Lafite Tres Vieille Reserve</td>\n",
       "      <td>70cl</td>\n",
       "      <td>Spirits</td>\n",
       "      <td>France</td>\n",
       "      <td>Cognac</td>\n",
       "      <td>2</td>\n",
       "      <td>1350.0</td>\n",
       "      <td>full-stock-list-2024-03-23</td>\n",
       "    </tr>\n",
       "    <tr>\n",
       "      <th>1</th>\n",
       "      <td>HED0037</td>\n",
       "      <td>Louis XIII</td>\n",
       "      <td>70cl</td>\n",
       "      <td>Spirits</td>\n",
       "      <td>France</td>\n",
       "      <td>Cognac</td>\n",
       "      <td>4</td>\n",
       "      <td>2950.0</td>\n",
       "      <td>full-stock-list-2024-03-23</td>\n",
       "    </tr>\n",
       "    <tr>\n",
       "      <th>2</th>\n",
       "      <td>HED0059</td>\n",
       "      <td>Ardbeg 17 Year Old</td>\n",
       "      <td>70cl</td>\n",
       "      <td>Spirits</td>\n",
       "      <td>Scotland</td>\n",
       "      <td>Whisky</td>\n",
       "      <td>2</td>\n",
       "      <td>595.0</td>\n",
       "      <td>full-stock-list-2024-03-23</td>\n",
       "    </tr>\n",
       "    <tr>\n",
       "      <th>3</th>\n",
       "      <td>HED0062</td>\n",
       "      <td>Ardbeg Lord of the Isles</td>\n",
       "      <td>70cl</td>\n",
       "      <td>Spirits</td>\n",
       "      <td>Scotland</td>\n",
       "      <td>Whisky</td>\n",
       "      <td>2</td>\n",
       "      <td>2400.0</td>\n",
       "      <td>full-stock-list-2024-03-23</td>\n",
       "    </tr>\n",
       "    <tr>\n",
       "      <th>4</th>\n",
       "      <td>HED0068</td>\n",
       "      <td>Balvenie 40 Year Old</td>\n",
       "      <td>70cl</td>\n",
       "      <td>Spirits</td>\n",
       "      <td>Scotland</td>\n",
       "      <td>Whisky</td>\n",
       "      <td>4</td>\n",
       "      <td>7250.0</td>\n",
       "      <td>full-stock-list-2024-03-23</td>\n",
       "    </tr>\n",
       "    <tr>\n",
       "      <th>...</th>\n",
       "      <td>...</td>\n",
       "      <td>...</td>\n",
       "      <td>...</td>\n",
       "      <td>...</td>\n",
       "      <td>...</td>\n",
       "      <td>...</td>\n",
       "      <td>...</td>\n",
       "      <td>...</td>\n",
       "      <td>...</td>\n",
       "    </tr>\n",
       "    <tr>\n",
       "      <th>31397</th>\n",
       "      <td>HED21759</td>\n",
       "      <td>Port Ellen 41 Year Old Prima &amp; Ultima Third Re...</td>\n",
       "      <td>70cl</td>\n",
       "      <td>Spirits</td>\n",
       "      <td>Scotland</td>\n",
       "      <td>Whisky</td>\n",
       "      <td>1</td>\n",
       "      <td>9550.0</td>\n",
       "      <td>full-stock-list-2024-03-24</td>\n",
       "    </tr>\n",
       "    <tr>\n",
       "      <th>31398</th>\n",
       "      <td>HED21760</td>\n",
       "      <td>Lagavulin 25 Year Old Prima &amp; Ultimate Fourth ...</td>\n",
       "      <td>70cl</td>\n",
       "      <td>Spirits</td>\n",
       "      <td>Scotland</td>\n",
       "      <td>Whisky</td>\n",
       "      <td>1</td>\n",
       "      <td>2400.0</td>\n",
       "      <td>full-stock-list-2024-03-24</td>\n",
       "    </tr>\n",
       "    <tr>\n",
       "      <th>31399</th>\n",
       "      <td>HED21761</td>\n",
       "      <td>Port Ellen 43 Year Old Prima &amp; Ultimate Fourth...</td>\n",
       "      <td>70cl</td>\n",
       "      <td>Spirits</td>\n",
       "      <td>Scotland</td>\n",
       "      <td>Whisky</td>\n",
       "      <td>1</td>\n",
       "      <td>15000.0</td>\n",
       "      <td>full-stock-list-2024-03-24</td>\n",
       "    </tr>\n",
       "    <tr>\n",
       "      <th>31400</th>\n",
       "      <td>HED47802</td>\n",
       "      <td>Rossville Union Rye 7 Year Old</td>\n",
       "      <td>70cl</td>\n",
       "      <td>Spirits</td>\n",
       "      <td>United States</td>\n",
       "      <td>Whiskey</td>\n",
       "      <td>3</td>\n",
       "      <td>90.0</td>\n",
       "      <td>full-stock-list-2024-03-24</td>\n",
       "    </tr>\n",
       "    <tr>\n",
       "      <th>31401</th>\n",
       "      <td>HED00101</td>\n",
       "      <td>Ardbeg 15 Year Old Single Oloroso Cask 1322 Ex...</td>\n",
       "      <td>70cl</td>\n",
       "      <td>Spirits</td>\n",
       "      <td>Scotland</td>\n",
       "      <td>Whisky</td>\n",
       "      <td>1</td>\n",
       "      <td>1100.0</td>\n",
       "      <td>full-stock-list-2024-03-24</td>\n",
       "    </tr>\n",
       "  </tbody>\n",
       "</table>\n",
       "<p>31402 rows × 9 columns</p>\n",
       "</div>"
      ],
      "text/plain": [
       "           Code                                              Title  Size  \\\n",
       "0       HED0017       Baron Rothschild Lafite Tres Vieille Reserve  70cl   \n",
       "1       HED0037                                     Louis XIII      70cl   \n",
       "2       HED0059                                 Ardbeg 17 Year Old  70cl   \n",
       "3       HED0062                           Ardbeg Lord of the Isles  70cl   \n",
       "4       HED0068                               Balvenie 40 Year Old  70cl   \n",
       "...         ...                                                ...   ...   \n",
       "31397  HED21759  Port Ellen 41 Year Old Prima & Ultima Third Re...  70cl   \n",
       "31398  HED21760  Lagavulin 25 Year Old Prima & Ultimate Fourth ...  70cl   \n",
       "31399  HED21761  Port Ellen 43 Year Old Prima & Ultimate Fourth...  70cl   \n",
       "31400  HED47802                     Rossville Union Rye 7 Year Old  70cl   \n",
       "31401  HED00101  Ardbeg 15 Year Old Single Oloroso Cask 1322 Ex...  70cl   \n",
       "\n",
       "         Style        Country    Group  Available  Price (GBP)  \\\n",
       "0      Spirits         France   Cognac          2       1350.0   \n",
       "1      Spirits         France   Cognac          4       2950.0   \n",
       "2      Spirits       Scotland   Whisky          2        595.0   \n",
       "3      Spirits       Scotland   Whisky          2       2400.0   \n",
       "4      Spirits       Scotland   Whisky          4       7250.0   \n",
       "...        ...            ...      ...        ...          ...   \n",
       "31397  Spirits       Scotland   Whisky          1       9550.0   \n",
       "31398  Spirits       Scotland   Whisky          1       2400.0   \n",
       "31399  Spirits       Scotland   Whisky          1      15000.0   \n",
       "31400  Spirits  United States  Whiskey          3         90.0   \n",
       "31401  Spirits       Scotland   Whisky          1       1100.0   \n",
       "\n",
       "                      import_date  \n",
       "0      full-stock-list-2024-03-23  \n",
       "1      full-stock-list-2024-03-23  \n",
       "2      full-stock-list-2024-03-23  \n",
       "3      full-stock-list-2024-03-23  \n",
       "4      full-stock-list-2024-03-23  \n",
       "...                           ...  \n",
       "31397  full-stock-list-2024-03-24  \n",
       "31398  full-stock-list-2024-03-24  \n",
       "31399  full-stock-list-2024-03-24  \n",
       "31400  full-stock-list-2024-03-24  \n",
       "31401  full-stock-list-2024-03-24  \n",
       "\n",
       "[31402 rows x 9 columns]"
      ]
     },
     "execution_count": 26,
     "metadata": {},
     "output_type": "execute_result"
    }
   ],
   "source": [
    "combined_df"
   ]
  },
  {
   "cell_type": "code",
   "execution_count": 27,
   "id": "6c0a7e2d",
   "metadata": {},
   "outputs": [],
   "source": [
    "combined_df.rename(columns={'Code':'code',\n",
    "                  'Title':'title',\n",
    "                  'Size':'size',\n",
    "                  'Style':'style',\n",
    "                  'Country':'country',\n",
    "                  'Group':'type',\n",
    "                  'Available':'availability',\n",
    "                  'Price (GBP)': 'price_gbp'},inplace=True)"
   ]
  },
  {
   "cell_type": "code",
   "execution_count": 28,
   "id": "2b80c075",
   "metadata": {},
   "outputs": [],
   "source": [
    "combined_df['import_date'] = combined_df['import_date'].str[-10:]\n",
    "\n",
    "# Convert the 'import_date' column to datetime objects\n",
    "combined_df['import_date'] = pd.to_datetime(combined_df['import_date'])"
   ]
  },
  {
   "cell_type": "code",
   "execution_count": 29,
   "id": "d90ac57e",
   "metadata": {},
   "outputs": [],
   "source": [
    "combined_df['title'] = combined_df['title'].str.strip()"
   ]
  },
  {
   "cell_type": "code",
   "execution_count": 30,
   "id": "030a1694",
   "metadata": {},
   "outputs": [],
   "source": [
    "combined_df['url'] = 'https://hedonism.co.uk/product/' + combined_df['title'].str.replace(' ', '-').str.lower() + '-whisky'"
   ]
  },
  {
   "cell_type": "code",
   "execution_count": 9,
   "id": "d5c3e5c4",
   "metadata": {},
   "outputs": [],
   "source": [
    "pd.set_option('display.max_columns', None)  # Display all columns"
   ]
  },
  {
   "cell_type": "code",
   "execution_count": 13,
   "id": "6f7df59f",
   "metadata": {},
   "outputs": [],
   "source": [
    "#new_df = combined_df.head(10)"
   ]
  },
  {
   "cell_type": "code",
   "execution_count": 14,
   "id": "01411307",
   "metadata": {},
   "outputs": [],
   "source": [
    "#new_df.to_csv('output.csv', index=False)"
   ]
  },
  {
   "cell_type": "code",
   "execution_count": 31,
   "id": "105cb3eb",
   "metadata": {},
   "outputs": [
    {
     "data": {
      "text/plain": [
       "1        Louis XIII\n",
       "10494    Louis XIII\n",
       "20963    Louis XIII\n",
       "Name: title, dtype: object"
      ]
     },
     "execution_count": 31,
     "metadata": {},
     "output_type": "execute_result"
    }
   ],
   "source": [
    "combined_df['title'][combined_df['code']=='HED0037']"
   ]
  },
  {
   "cell_type": "markdown",
   "id": "204f5681",
   "metadata": {},
   "source": [
    "### Importing a static file"
   ]
  },
  {
   "cell_type": "code",
   "execution_count": 2,
   "id": "3cdf4169",
   "metadata": {},
   "outputs": [],
   "source": [
    "# df = pd.read_csv('/Users/MacUser/Downloads/full-stock-list_2024_03_23.csv')"
   ]
  },
  {
   "cell_type": "code",
   "execution_count": 3,
   "id": "4b934d9d",
   "metadata": {},
   "outputs": [],
   "source": [
    "# df['import_date'] = '2024-03-23'"
   ]
  },
  {
   "cell_type": "code",
   "execution_count": 27,
   "id": "2c306a30",
   "metadata": {},
   "outputs": [],
   "source": [
    "# df.rename(columns={'Code':'code',\n",
    "#                   'Title':'title',\n",
    "#                   'Size':'size',\n",
    "#                   'Style':'style',\n",
    "#                   'Country':'country',\n",
    "#                   'Group':'type',\n",
    "#                   'Available':'availability',\n",
    "#                   'Price (GBP)': 'price_gbp'},inplace=True)"
   ]
  },
  {
   "cell_type": "markdown",
   "id": "6b131cc3",
   "metadata": {
    "heading_collapsed": true
   },
   "source": [
    "### Importing files by calling the API"
   ]
  },
  {
   "cell_type": "code",
   "execution_count": 5,
   "id": "b775e8cb",
   "metadata": {
    "hidden": true
   },
   "outputs": [
    {
     "data": {
      "text/html": [
       "<div>\n",
       "<style scoped>\n",
       "    .dataframe tbody tr th:only-of-type {\n",
       "        vertical-align: middle;\n",
       "    }\n",
       "\n",
       "    .dataframe tbody tr th {\n",
       "        vertical-align: top;\n",
       "    }\n",
       "\n",
       "    .dataframe thead th {\n",
       "        text-align: right;\n",
       "    }\n",
       "</style>\n",
       "<table border=\"1\" class=\"dataframe\">\n",
       "  <thead>\n",
       "    <tr style=\"text-align: right;\">\n",
       "      <th></th>\n",
       "      <th>Code</th>\n",
       "      <th>Title</th>\n",
       "      <th>Size</th>\n",
       "      <th>Style</th>\n",
       "      <th>Country</th>\n",
       "      <th>Group</th>\n",
       "      <th>Available</th>\n",
       "      <th>Price (GBP)</th>\n",
       "    </tr>\n",
       "  </thead>\n",
       "  <tbody>\n",
       "    <tr>\n",
       "      <th>0</th>\n",
       "      <td>HED0017</td>\n",
       "      <td>Baron Rothschild Lafite Tres Vieille Reserve</td>\n",
       "      <td>70cl</td>\n",
       "      <td>Spirits</td>\n",
       "      <td>France</td>\n",
       "      <td>Cognac</td>\n",
       "      <td>1</td>\n",
       "      <td>1350.0</td>\n",
       "    </tr>\n",
       "    <tr>\n",
       "      <th>1</th>\n",
       "      <td>HED0037</td>\n",
       "      <td>Louis XIII</td>\n",
       "      <td>70cl</td>\n",
       "      <td>Spirits</td>\n",
       "      <td>France</td>\n",
       "      <td>Cognac</td>\n",
       "      <td>4</td>\n",
       "      <td>2950.0</td>\n",
       "    </tr>\n",
       "    <tr>\n",
       "      <th>2</th>\n",
       "      <td>HED0059</td>\n",
       "      <td>Ardbeg 17 Year Old</td>\n",
       "      <td>70cl</td>\n",
       "      <td>Spirits</td>\n",
       "      <td>Scotland</td>\n",
       "      <td>Whisky</td>\n",
       "      <td>2</td>\n",
       "      <td>595.0</td>\n",
       "    </tr>\n",
       "    <tr>\n",
       "      <th>3</th>\n",
       "      <td>HED0062</td>\n",
       "      <td>Ardbeg Lord of the Isles</td>\n",
       "      <td>70cl</td>\n",
       "      <td>Spirits</td>\n",
       "      <td>Scotland</td>\n",
       "      <td>Whisky</td>\n",
       "      <td>2</td>\n",
       "      <td>2400.0</td>\n",
       "    </tr>\n",
       "    <tr>\n",
       "      <th>4</th>\n",
       "      <td>HED0068</td>\n",
       "      <td>Balvenie 40 Year Old</td>\n",
       "      <td>70cl</td>\n",
       "      <td>Spirits</td>\n",
       "      <td>Scotland</td>\n",
       "      <td>Whisky</td>\n",
       "      <td>4</td>\n",
       "      <td>7250.0</td>\n",
       "    </tr>\n",
       "  </tbody>\n",
       "</table>\n",
       "</div>"
      ],
      "text/plain": [
       "      Code                                         Title  Size    Style  \\\n",
       "0  HED0017  Baron Rothschild Lafite Tres Vieille Reserve  70cl  Spirits   \n",
       "1  HED0037                                Louis XIII      70cl  Spirits   \n",
       "2  HED0059                            Ardbeg 17 Year Old  70cl  Spirits   \n",
       "3  HED0062                      Ardbeg Lord of the Isles  70cl  Spirits   \n",
       "4  HED0068                          Balvenie 40 Year Old  70cl  Spirits   \n",
       "\n",
       "    Country   Group  Available  Price (GBP)  \n",
       "0    France  Cognac          1       1350.0  \n",
       "1    France  Cognac          4       2950.0  \n",
       "2  Scotland  Whisky          2        595.0  \n",
       "3  Scotland  Whisky          2       2400.0  \n",
       "4  Scotland  Whisky          4       7250.0  "
      ]
     },
     "execution_count": 5,
     "metadata": {},
     "output_type": "execute_result"
    }
   ],
   "source": [
    "url = 'https://hedonism.co.uk/sites/default/files/full-stock-list.csv'\n",
    "\n",
    "# Define headers\n",
    "headers = {\n",
    "    'User-Agent': 'Mozilla/5.0 (Windows NT 10.0; Win64; x64) AppleWebKit/537.36 (KHTML, like Gecko) Chrome/58.0.3029.110 Safari/537.3',\n",
    "    'Accept-Language': 'en-US,en;q=0.9',\n",
    "}\n",
    "\n",
    "# Make request with headers\n",
    "response = requests.get(url, headers=headers)\n",
    "\n",
    "# Check if request was successful\n",
    "if response.status_code == 200:\n",
    "    # Read CSV from response content\n",
    "    csv_data = StringIO(response.text)\n",
    "    df = pd.read_csv(csv_data)\n",
    "else:\n",
    "    print(\"Failed to fetch data:\", response.status_code)\n",
    "    \n",
    "df.head()  # Display first few rows of the DataFrame"
   ]
  },
  {
   "cell_type": "code",
   "execution_count": 6,
   "id": "f150eabe",
   "metadata": {
    "hidden": true
   },
   "outputs": [],
   "source": [
    "# Get today's date\n",
    "today_date = datetime.today().date()\n",
    "\n",
    "# Add today's date to a new column in the DataFrame\n",
    "df['import_date'] = today_date"
   ]
  },
  {
   "cell_type": "code",
   "execution_count": 7,
   "id": "2f9f9a79",
   "metadata": {
    "hidden": true
   },
   "outputs": [],
   "source": [
    "df.rename(columns={'Code':'code',\n",
    "                  'Title':'title',\n",
    "                  'Size':'size',\n",
    "                  'Style':'style',\n",
    "                  'Country':'country',\n",
    "                  'Group':'type',\n",
    "                  'Available':'availability',\n",
    "                  'Price (GBP)': 'price_gbp'},inplace=True)"
   ]
  },
  {
   "cell_type": "code",
   "execution_count": 8,
   "id": "ebaf809a",
   "metadata": {
    "hidden": true
   },
   "outputs": [
    {
     "data": {
      "text/html": [
       "<div>\n",
       "<style scoped>\n",
       "    .dataframe tbody tr th:only-of-type {\n",
       "        vertical-align: middle;\n",
       "    }\n",
       "\n",
       "    .dataframe tbody tr th {\n",
       "        vertical-align: top;\n",
       "    }\n",
       "\n",
       "    .dataframe thead th {\n",
       "        text-align: right;\n",
       "    }\n",
       "</style>\n",
       "<table border=\"1\" class=\"dataframe\">\n",
       "  <thead>\n",
       "    <tr style=\"text-align: right;\">\n",
       "      <th></th>\n",
       "      <th>code</th>\n",
       "      <th>title</th>\n",
       "      <th>size</th>\n",
       "      <th>style</th>\n",
       "      <th>country</th>\n",
       "      <th>type</th>\n",
       "      <th>availability</th>\n",
       "      <th>price_gbp</th>\n",
       "      <th>import_date</th>\n",
       "    </tr>\n",
       "  </thead>\n",
       "  <tbody>\n",
       "    <tr>\n",
       "      <th>0</th>\n",
       "      <td>HED0017</td>\n",
       "      <td>Baron Rothschild Lafite Tres Vieille Reserve</td>\n",
       "      <td>70cl</td>\n",
       "      <td>Spirits</td>\n",
       "      <td>France</td>\n",
       "      <td>Cognac</td>\n",
       "      <td>1</td>\n",
       "      <td>1350.0</td>\n",
       "      <td>2024-03-25</td>\n",
       "    </tr>\n",
       "    <tr>\n",
       "      <th>1</th>\n",
       "      <td>HED0037</td>\n",
       "      <td>Louis XIII</td>\n",
       "      <td>70cl</td>\n",
       "      <td>Spirits</td>\n",
       "      <td>France</td>\n",
       "      <td>Cognac</td>\n",
       "      <td>4</td>\n",
       "      <td>2950.0</td>\n",
       "      <td>2024-03-25</td>\n",
       "    </tr>\n",
       "    <tr>\n",
       "      <th>2</th>\n",
       "      <td>HED0059</td>\n",
       "      <td>Ardbeg 17 Year Old</td>\n",
       "      <td>70cl</td>\n",
       "      <td>Spirits</td>\n",
       "      <td>Scotland</td>\n",
       "      <td>Whisky</td>\n",
       "      <td>2</td>\n",
       "      <td>595.0</td>\n",
       "      <td>2024-03-25</td>\n",
       "    </tr>\n",
       "    <tr>\n",
       "      <th>3</th>\n",
       "      <td>HED0062</td>\n",
       "      <td>Ardbeg Lord of the Isles</td>\n",
       "      <td>70cl</td>\n",
       "      <td>Spirits</td>\n",
       "      <td>Scotland</td>\n",
       "      <td>Whisky</td>\n",
       "      <td>2</td>\n",
       "      <td>2400.0</td>\n",
       "      <td>2024-03-25</td>\n",
       "    </tr>\n",
       "    <tr>\n",
       "      <th>4</th>\n",
       "      <td>HED0068</td>\n",
       "      <td>Balvenie 40 Year Old</td>\n",
       "      <td>70cl</td>\n",
       "      <td>Spirits</td>\n",
       "      <td>Scotland</td>\n",
       "      <td>Whisky</td>\n",
       "      <td>4</td>\n",
       "      <td>7250.0</td>\n",
       "      <td>2024-03-25</td>\n",
       "    </tr>\n",
       "  </tbody>\n",
       "</table>\n",
       "</div>"
      ],
      "text/plain": [
       "      code                                         title  size    style  \\\n",
       "0  HED0017  Baron Rothschild Lafite Tres Vieille Reserve  70cl  Spirits   \n",
       "1  HED0037                                Louis XIII      70cl  Spirits   \n",
       "2  HED0059                            Ardbeg 17 Year Old  70cl  Spirits   \n",
       "3  HED0062                      Ardbeg Lord of the Isles  70cl  Spirits   \n",
       "4  HED0068                          Balvenie 40 Year Old  70cl  Spirits   \n",
       "\n",
       "    country    type  availability  price_gbp import_date  \n",
       "0    France  Cognac             1     1350.0  2024-03-25  \n",
       "1    France  Cognac             4     2950.0  2024-03-25  \n",
       "2  Scotland  Whisky             2      595.0  2024-03-25  \n",
       "3  Scotland  Whisky             2     2400.0  2024-03-25  \n",
       "4  Scotland  Whisky             4     7250.0  2024-03-25  "
      ]
     },
     "execution_count": 8,
     "metadata": {},
     "output_type": "execute_result"
    }
   ],
   "source": [
    "df.head()"
   ]
  },
  {
   "cell_type": "markdown",
   "id": "4fcec9ff",
   "metadata": {
    "heading_collapsed": true
   },
   "source": [
    "### Queries using sqldf engine"
   ]
  },
  {
   "cell_type": "code",
   "execution_count": 60,
   "id": "be478f2b",
   "metadata": {
    "hidden": true
   },
   "outputs": [],
   "source": [
    "# Create an in-memory SQLite database engine\n",
    "#engine = create_engine('sqlite://', echo=False)"
   ]
  },
  {
   "cell_type": "code",
   "execution_count": 61,
   "id": "2c1aacf9",
   "metadata": {
    "hidden": true
   },
   "outputs": [],
   "source": [
    "# Convert the DataFrame to a SQL table in the in-memory SQLite database\n",
    "#df.to_sql('mydata', con=engine, if_exists='replace', index=False)"
   ]
  },
  {
   "cell_type": "code",
   "execution_count": 62,
   "id": "d49ae555",
   "metadata": {
    "hidden": true
   },
   "outputs": [],
   "source": [
    "# Execute the SQL query and fetch all results\n",
    "#results = engine.execute(\"\"\"\n",
    "#                        SELECT COUNT (*), SUM (price_gbp), AVG(price_gbp)\n",
    "#                        FROM mydata \n",
    "#                        \"\"\").fetchall()\n",
    "#                        \n",
    "# Convert the results to a DataFrame\n",
    "#result_df = pd.DataFrame(results)"
   ]
  },
  {
   "cell_type": "markdown",
   "id": "deb07835",
   "metadata": {},
   "source": [
    "### Queries using sqlalchemy and duck db to create an initial table"
   ]
  },
  {
   "cell_type": "code",
   "execution_count": 24,
   "id": "e3650565",
   "metadata": {},
   "outputs": [],
   "source": [
    "# Specify the file path for the DuckDB database\n",
    "db_path = '/Users/MacUser/hedonism-wines_app/database.db'  # Example path, replace with your desired path"
   ]
  },
  {
   "cell_type": "code",
   "execution_count": 25,
   "id": "9f711b02",
   "metadata": {},
   "outputs": [],
   "source": [
    "# # Establish a connection to an in-memory DuckDB database\n",
    "conn = duckdb.connect(database=db_path, read_only=False)"
   ]
  },
  {
   "cell_type": "code",
   "execution_count": 32,
   "id": "14ed81f4",
   "metadata": {},
   "outputs": [
    {
     "name": "stderr",
     "output_type": "stream",
     "text": [
      "/Users/MacUser/opt/anaconda3/lib/python3.9/site-packages/pandas/io/sql.py:761: UserWarning: pandas only support SQLAlchemy connectable(engine/connection) ordatabase string URI or sqlite3 DBAPI2 connectionother DBAPI2 objects are not tested, please consider using SQLAlchemy\n",
      "  warnings.warn(\n"
     ]
    },
    {
     "data": {
      "text/plain": [
       "-1"
      ]
     },
     "execution_count": 32,
     "metadata": {},
     "output_type": "execute_result"
    }
   ],
   "source": [
    "# # Create a DuckDB table from the DataFrame\n",
    "#conn.register('stocks_table', df)\n",
    "combined_df.to_sql(name='stocks_table', con=conn, index=False, if_exists='replace')"
   ]
  },
  {
   "cell_type": "code",
   "execution_count": 33,
   "id": "985d72ec",
   "metadata": {},
   "outputs": [
    {
     "data": {
      "text/plain": [
       "<duckdb.duckdb.DuckDBPyConnection at 0x7fe757a200f0>"
      ]
     },
     "execution_count": 33,
     "metadata": {},
     "output_type": "execute_result"
    }
   ],
   "source": [
    "# # Commit the transaction to save changes\n",
    "conn.commit()"
   ]
  },
  {
   "cell_type": "code",
   "execution_count": 28,
   "id": "c227fbd8",
   "metadata": {},
   "outputs": [],
   "source": [
    "# Execute SQL queries to create a table only for whisky records\n",
    "results = conn.execute(\"\"\"SELECT COUNT (*), import_date FROM stocks_table GROUP BY import_date\n",
    "                \"\"\").fetchdf()\n",
    "\n",
    "# Convert the results to a DataFrame\n",
    "result_df = pd.DataFrame(results)"
   ]
  },
  {
   "cell_type": "code",
   "execution_count": 29,
   "id": "3979a299",
   "metadata": {},
   "outputs": [
    {
     "data": {
      "text/html": [
       "<div>\n",
       "<style scoped>\n",
       "    .dataframe tbody tr th:only-of-type {\n",
       "        vertical-align: middle;\n",
       "    }\n",
       "\n",
       "    .dataframe tbody tr th {\n",
       "        vertical-align: top;\n",
       "    }\n",
       "\n",
       "    .dataframe thead th {\n",
       "        text-align: right;\n",
       "    }\n",
       "</style>\n",
       "<table border=\"1\" class=\"dataframe\">\n",
       "  <thead>\n",
       "    <tr style=\"text-align: right;\">\n",
       "      <th></th>\n",
       "      <th>count_star()</th>\n",
       "      <th>import_date</th>\n",
       "    </tr>\n",
       "  </thead>\n",
       "  <tbody>\n",
       "    <tr>\n",
       "      <th>0</th>\n",
       "      <td>10493</td>\n",
       "      <td>2024-03-23</td>\n",
       "    </tr>\n",
       "    <tr>\n",
       "      <th>1</th>\n",
       "      <td>10440</td>\n",
       "      <td>2024-03-24</td>\n",
       "    </tr>\n",
       "    <tr>\n",
       "      <th>2</th>\n",
       "      <td>10421</td>\n",
       "      <td>2024-03-25</td>\n",
       "    </tr>\n",
       "  </tbody>\n",
       "</table>\n",
       "</div>"
      ],
      "text/plain": [
       "   count_star() import_date\n",
       "0         10493  2024-03-23\n",
       "1         10440  2024-03-24\n",
       "2         10421  2024-03-25"
      ]
     },
     "execution_count": 29,
     "metadata": {},
     "output_type": "execute_result"
    }
   ],
   "source": [
    "result_df"
   ]
  },
  {
   "cell_type": "code",
   "execution_count": 34,
   "id": "bf4801ab",
   "metadata": {},
   "outputs": [],
   "source": [
    "# # Close connection to the db\n",
    "conn.close()"
   ]
  },
  {
   "cell_type": "markdown",
   "id": "c065d336",
   "metadata": {},
   "source": [
    "#### Check existing tables"
   ]
  },
  {
   "cell_type": "code",
   "execution_count": 48,
   "id": "55eb8fc2",
   "metadata": {},
   "outputs": [
    {
     "name": "stdout",
     "output_type": "stream",
     "text": [
      "List of tables:\n",
      "stocks_table\n"
     ]
    }
   ],
   "source": [
    "# # # Execute the SHOW TABLES command\n",
    "# result = conn.execute(\"SHOW TABLES\")\n",
    "\n",
    "# # # Fetch all table names\n",
    "# table_names = result.fetchall()\n",
    "\n",
    "# # # Print the list of tables\n",
    "# print(\"List of tables:\")\n",
    "# for table_name in table_names:\n",
    "#      print(table_name[0])\n",
    "\n",
    "# # # Close the connection\n",
    "# conn.close()"
   ]
  },
  {
   "cell_type": "markdown",
   "id": "b8cd44b8",
   "metadata": {},
   "source": [
    "#### Drop unnecessary Views"
   ]
  },
  {
   "cell_type": "code",
   "execution_count": 9,
   "id": "15329ee6",
   "metadata": {},
   "outputs": [
    {
     "data": {
      "text/plain": [
       "<duckdb.duckdb.DuckDBPyConnection at 0x7fe757a200f0>"
      ]
     },
     "execution_count": 9,
     "metadata": {},
     "output_type": "execute_result"
    }
   ],
   "source": [
    "# # Drop a table (replace 'table_name' with the name of the table you want to drop)\n",
    "# conn.execute(\"DROP VIEW IF EXISTS stocks\")\n",
    "conn.execute(\"DROP TABLE IF EXISTS stocks_table\")\n",
    "conn.execute(\"DROP TABLE IF EXISTS whisky_stocks_table\")"
   ]
  },
  {
   "cell_type": "markdown",
   "id": "f2f08fbe",
   "metadata": {},
   "source": [
    "### Inserting new data into duckdb"
   ]
  },
  {
   "cell_type": "code",
   "execution_count": 35,
   "id": "b53f21c4",
   "metadata": {},
   "outputs": [],
   "source": [
    "# Specify the file path for the DuckDB database\n",
    "db_path = '/Users/MacUser/hedonism-wines_app/database.db'  # Example path, replace with your desired path"
   ]
  },
  {
   "cell_type": "code",
   "execution_count": 36,
   "id": "a21c5354",
   "metadata": {},
   "outputs": [],
   "source": [
    "# Establish a connection to an in-memory DuckDB database\n",
    "conn = duckdb.connect(database=db_path, read_only=False)"
   ]
  },
  {
   "cell_type": "code",
   "execution_count": 27,
   "id": "dd61ac57",
   "metadata": {},
   "outputs": [],
   "source": [
    "today_date = datetime.now().strftime('%Y-%m-%d')"
   ]
  },
  {
   "cell_type": "code",
   "execution_count": 32,
   "id": "23dd42b2",
   "metadata": {},
   "outputs": [],
   "source": [
    "# Execute DELETE query\n",
    "delete_query = f\"DELETE FROM stocks_table WHERE import_date = '{today_date}'\"\n",
    "\n",
    "# Execute the query\n",
    "conn.execute(delete_query)\n",
    "\n",
    "# Commit the changes\n",
    "conn.commit()\n",
    "\n",
    "# Close connection\n",
    "conn.close()"
   ]
  },
  {
   "cell_type": "code",
   "execution_count": null,
   "id": "cfda8f42",
   "metadata": {},
   "outputs": [],
   "source": [
    "conn = duckdb.connect(database=db_path, read_only=False)"
   ]
  },
  {
   "cell_type": "code",
   "execution_count": 12,
   "id": "80cc628a",
   "metadata": {},
   "outputs": [],
   "source": [
    "# Get the column names from the DataFrame\n",
    "columns = list(df.columns)"
   ]
  },
  {
   "cell_type": "code",
   "execution_count": 13,
   "id": "2fde7b50",
   "metadata": {},
   "outputs": [],
   "source": [
    "# Generate the list of column names for the INSERT INTO statement\n",
    "column_names = \", \".join(columns)"
   ]
  },
  {
   "cell_type": "code",
   "execution_count": 14,
   "id": "a3ab2f90",
   "metadata": {},
   "outputs": [],
   "source": [
    "# Generate the list of parameter placeholders (?, ?, ?) for the VALUES clause\n",
    "parameter_placeholders = \", \".join([\"?\" for _ in range(len(columns))])"
   ]
  },
  {
   "cell_type": "code",
   "execution_count": 15,
   "id": "fd269b04",
   "metadata": {},
   "outputs": [],
   "source": [
    "# Convert the DataFrame to records list\n",
    "records = df.values.tolist()"
   ]
  },
  {
   "cell_type": "code",
   "execution_count": 16,
   "id": "edbd7075",
   "metadata": {},
   "outputs": [],
   "source": [
    "# Define the name of your existing table\n",
    "table_name = 'stocks_table'"
   ]
  },
  {
   "cell_type": "code",
   "execution_count": 17,
   "id": "861883d0",
   "metadata": {},
   "outputs": [],
   "source": [
    "# Construct the SQL INSERT INTO statement dynamically\n",
    "sql_insert = f\"INSERT INTO {table_name} ({column_names}) VALUES ({parameter_placeholders})\""
   ]
  },
  {
   "cell_type": "code",
   "execution_count": 18,
   "id": "d5015982",
   "metadata": {},
   "outputs": [
    {
     "data": {
      "text/plain": [
       "<duckdb.duckdb.DuckDBPyConnection at 0x7f7f06daa7b0>"
      ]
     },
     "execution_count": 18,
     "metadata": {},
     "output_type": "execute_result"
    }
   ],
   "source": [
    "# Execute the INSERT statement\n",
    "conn.executemany(sql_insert, records)\n",
    "\n",
    "# Commit the transaction (optional, depending on your needs)\n",
    "conn.commit()"
   ]
  },
  {
   "cell_type": "code",
   "execution_count": 37,
   "id": "804c54c1",
   "metadata": {},
   "outputs": [
    {
     "data": {
      "text/plain": [
       "<duckdb.duckdb.DuckDBPyConnection at 0x7fe73da081b0>"
      ]
     },
     "execution_count": 37,
     "metadata": {},
     "output_type": "execute_result"
    }
   ],
   "source": [
    "# Execute SQL queries to create a table only for whisky records\n",
    "conn.execute(\"\"\"CREATE OR REPLACE TABLE whisky_stocks_table AS \n",
    "                SELECT * FROM stocks_table \n",
    "                WHERE type = 'Whisky'\"\"\")"
   ]
  },
  {
   "cell_type": "code",
   "execution_count": 31,
   "id": "c95a656c",
   "metadata": {},
   "outputs": [],
   "source": [
    "# Close the connection\n",
    "conn.close()"
   ]
  },
  {
   "cell_type": "markdown",
   "id": "b894de6e",
   "metadata": {},
   "source": [
    "### Expection of duplicated entries with different codes but same title"
   ]
  },
  {
   "cell_type": "code",
   "execution_count": 50,
   "id": "8f092e7c",
   "metadata": {},
   "outputs": [],
   "source": [
    "# Execute SQL queries to create a table only for whisky records\n",
    "results = conn.execute(\"\"\"SELECT DISTINCT code, title, price_gbp, url\n",
    "                          FROM whisky_stocks_table\n",
    "                          WHERE price_gbp = 4100.0 \n",
    "                          OR price_gbp = 4950.0\n",
    "                \"\"\").fetchdf()\n",
    "\n",
    "# Convert the results to a DataFrame\n",
    "result_df = pd.DataFrame(results)"
   ]
  },
  {
   "cell_type": "code",
   "execution_count": 51,
   "id": "8e2274dd",
   "metadata": {},
   "outputs": [
    {
     "data": {
      "text/html": [
       "<div>\n",
       "<style scoped>\n",
       "    .dataframe tbody tr th:only-of-type {\n",
       "        vertical-align: middle;\n",
       "    }\n",
       "\n",
       "    .dataframe tbody tr th {\n",
       "        vertical-align: top;\n",
       "    }\n",
       "\n",
       "    .dataframe thead th {\n",
       "        text-align: right;\n",
       "    }\n",
       "</style>\n",
       "<table border=\"1\" class=\"dataframe\">\n",
       "  <thead>\n",
       "    <tr style=\"text-align: right;\">\n",
       "      <th></th>\n",
       "      <th>code</th>\n",
       "      <th>title</th>\n",
       "      <th>price_gbp</th>\n",
       "      <th>url</th>\n",
       "    </tr>\n",
       "  </thead>\n",
       "  <tbody>\n",
       "    <tr>\n",
       "      <th>0</th>\n",
       "      <td>HED3548</td>\n",
       "      <td>Macallan 25 Year Old Anniversary Malt</td>\n",
       "      <td>4950.0</td>\n",
       "      <td>https://hedonism.co.uk/product/macallan-25-yea...</td>\n",
       "    </tr>\n",
       "    <tr>\n",
       "      <th>1</th>\n",
       "      <td>HED87923</td>\n",
       "      <td>Macallan 25 Year Old Anniversary Malt</td>\n",
       "      <td>4100.0</td>\n",
       "      <td>https://hedonism.co.uk/product/macallan-25-yea...</td>\n",
       "    </tr>\n",
       "  </tbody>\n",
       "</table>\n",
       "</div>"
      ],
      "text/plain": [
       "       code                                  title  price_gbp  \\\n",
       "0   HED3548  Macallan 25 Year Old Anniversary Malt     4950.0   \n",
       "1  HED87923  Macallan 25 Year Old Anniversary Malt     4100.0   \n",
       "\n",
       "                                                 url  \n",
       "0  https://hedonism.co.uk/product/macallan-25-yea...  \n",
       "1  https://hedonism.co.uk/product/macallan-25-yea...  "
      ]
     },
     "execution_count": 51,
     "metadata": {},
     "output_type": "execute_result"
    }
   ],
   "source": [
    "result_df"
   ]
  },
  {
   "cell_type": "markdown",
   "id": "6bd31f3c",
   "metadata": {},
   "source": [
    "### Visualisation"
   ]
  },
  {
   "cell_type": "code",
   "execution_count": 2,
   "id": "f52f5667",
   "metadata": {},
   "outputs": [],
   "source": [
    "# Specify the file path for the DuckDB database\n",
    "db_path = '/Users/MacUser/hedonism-wines_app/database.db'  # Example path, replace with your desired path\n",
    "\n",
    "# Establish a connection to an in-memory DuckDB database\n",
    "conn = duckdb.connect(database=db_path, read_only=False)"
   ]
  },
  {
   "cell_type": "markdown",
   "id": "3671c71f",
   "metadata": {},
   "source": [
    "#### Show discounted items"
   ]
  },
  {
   "cell_type": "code",
   "execution_count": 3,
   "id": "daca7d6a",
   "metadata": {},
   "outputs": [
    {
     "data": {
      "text/plain": [
       "<duckdb.duckdb.DuckDBPyConnection at 0x7fea200dbcf0>"
      ]
     },
     "execution_count": 3,
     "metadata": {},
     "output_type": "execute_result"
    }
   ],
   "source": [
    "# conn.execute(\"\"\"\n",
    "# UPDATE database.whisky_stocks_table \n",
    "# SET price_gbp = 24500 \n",
    "# WHERE code = 'HED10582' \n",
    "# AND import_date = CURRENT_DATE()\"\"\")"
   ]
  },
  {
   "cell_type": "code",
   "execution_count": 4,
   "id": "ee544c96",
   "metadata": {},
   "outputs": [
    {
     "data": {
      "text/plain": [
       "<duckdb.duckdb.DuckDBPyConnection at 0x7fea200dbcf0>"
      ]
     },
     "execution_count": 4,
     "metadata": {},
     "output_type": "execute_result"
    }
   ],
   "source": [
    "# # # Commit the transaction to save changes\n",
    "# conn.commit()"
   ]
  },
  {
   "cell_type": "code",
   "execution_count": 5,
   "id": "57253553",
   "metadata": {},
   "outputs": [
    {
     "data": {
      "text/html": [
       "<div>\n",
       "<style scoped>\n",
       "    .dataframe tbody tr th:only-of-type {\n",
       "        vertical-align: middle;\n",
       "    }\n",
       "\n",
       "    .dataframe tbody tr th {\n",
       "        vertical-align: top;\n",
       "    }\n",
       "\n",
       "    .dataframe thead th {\n",
       "        text-align: right;\n",
       "    }\n",
       "</style>\n",
       "<table border=\"1\" class=\"dataframe\">\n",
       "  <thead>\n",
       "    <tr style=\"text-align: right;\">\n",
       "      <th></th>\n",
       "      <th>code</th>\n",
       "      <th>title</th>\n",
       "      <th>url</th>\n",
       "      <th>current_minimum_price</th>\n",
       "      <th>current_date</th>\n",
       "      <th>previous_price</th>\n",
       "      <th>previous_date</th>\n",
       "      <th>price_diff</th>\n",
       "      <th>perc_saving</th>\n",
       "    </tr>\n",
       "  </thead>\n",
       "  <tbody>\n",
       "  </tbody>\n",
       "</table>\n",
       "</div>"
      ],
      "text/plain": [
       "Empty DataFrame\n",
       "Columns: [code, title, url, current_minimum_price, current_date, previous_price, previous_date, price_diff, perc_saving]\n",
       "Index: []"
      ]
     },
     "execution_count": 5,
     "metadata": {},
     "output_type": "execute_result"
    }
   ],
   "source": [
    "# Execute SQL queries to create a table only for whisky records\n",
    "results = conn.execute(\"\"\"\n",
    "\n",
    "WITH current_price AS (\n",
    "    SELECT code, price_gbp, import_date, title, url\n",
    "    FROM whisky_stocks_table\n",
    "    WHERE import_date = CURRENT_DATE()\n",
    "),\n",
    "minimum_price AS (\n",
    "    SELECT code, price_gbp, import_date\n",
    "    FROM (\n",
    "        SELECT code, \n",
    "               RANK() OVER (PARTITION BY code ORDER BY price_gbp ASC) rank,\n",
    "               price_gbp,\n",
    "               import_date\n",
    "        FROM whisky_stocks_table\n",
    "    ) ranked\n",
    "    WHERE rank = 1\n",
    "),\n",
    "previous_price AS (\n",
    "    SELECT code, price_gbp, min(import_date) import_date\n",
    "    FROM (\n",
    "        SELECT code, \n",
    "               RANK() OVER (PARTITION BY code ORDER BY price_gbp ASC) rank,\n",
    "               price_gbp,\n",
    "               import_date import_date\n",
    "        FROM whisky_stocks_table\n",
    "    ) ranked\n",
    "    WHERE rank = 2\n",
    "    GROUP BY code, price_gbp\n",
    "\n",
    "),\n",
    "output AS (\n",
    "    SELECT  c.code, \n",
    "            c.title,\n",
    "            c.url,\n",
    "            c.price_gbp as current_minimum_price, \n",
    "            c.import_date as current_date,\n",
    "            p.price_gbp as previous_price,\n",
    "            p.import_date as previous_date,\n",
    "            p.price_gbp - m.price_gbp as price_diff,\n",
    "            ((p.price_gbp - m.price_gbp)/p.price_gbp)*100 AS perc_saving\n",
    "    FROM current_price c \n",
    "    JOIN minimum_price m ON c.code = m.code AND c.price_gbp = m.price_gbp\n",
    "    JOIN previous_price p ON c.code = p.code\n",
    ")\n",
    "SELECT * FROM output WHERE price_diff > 0\n",
    "\n",
    "                \"\"\").fetchdf()\n",
    "\n",
    "# Convert the results to a DataFrame\n",
    "result_df_1 = pd.DataFrame(results)\n",
    "result_df_1"
   ]
  },
  {
   "cell_type": "code",
   "execution_count": null,
   "id": "1ab35fd4",
   "metadata": {},
   "outputs": [],
   "source": [
    "# Add a title to the Streamlit app\n",
    "st.title('Discounts')"
   ]
  },
  {
   "cell_type": "code",
   "execution_count": 5,
   "id": "336896a5",
   "metadata": {},
   "outputs": [
    {
     "data": {
      "text/html": [
       "<div>\n",
       "<style scoped>\n",
       "    .dataframe tbody tr th:only-of-type {\n",
       "        vertical-align: middle;\n",
       "    }\n",
       "\n",
       "    .dataframe tbody tr th {\n",
       "        vertical-align: top;\n",
       "    }\n",
       "\n",
       "    .dataframe thead th {\n",
       "        text-align: right;\n",
       "    }\n",
       "</style>\n",
       "<table border=\"1\" class=\"dataframe\">\n",
       "  <thead>\n",
       "    <tr style=\"text-align: right;\">\n",
       "      <th></th>\n",
       "      <th>min_price</th>\n",
       "      <th>max_price</th>\n",
       "      <th>price_diff</th>\n",
       "      <th>discount_perc</th>\n",
       "      <th>max_date</th>\n",
       "      <th>title</th>\n",
       "    </tr>\n",
       "  </thead>\n",
       "  <tbody>\n",
       "    <tr>\n",
       "      <th>0</th>\n",
       "      <td>4100.0</td>\n",
       "      <td>4950.0</td>\n",
       "      <td>850.0</td>\n",
       "      <td>17.17</td>\n",
       "      <td>2024-03-24</td>\n",
       "      <td>Macallan 25 Year Old Anniversary Malt</td>\n",
       "    </tr>\n",
       "  </tbody>\n",
       "</table>\n",
       "</div>"
      ],
      "text/plain": [
       "   min_price  max_price  price_diff  discount_perc    max_date  \\\n",
       "0     4100.0     4950.0       850.0          17.17  2024-03-24   \n",
       "\n",
       "                                       title  \n",
       "0  Macallan 25 Year Old Anniversary Malt      "
      ]
     },
     "execution_count": 5,
     "metadata": {},
     "output_type": "execute_result"
    }
   ],
   "source": [
    "result_df_1"
   ]
  },
  {
   "cell_type": "code",
   "execution_count": 6,
   "id": "7b7f4221",
   "metadata": {},
   "outputs": [
    {
     "name": "stderr",
     "output_type": "stream",
     "text": [
      "2024-03-24 23:00:14.189 \n",
      "  \u001b[33m\u001b[1mWarning:\u001b[0m to view this Streamlit app on a browser, run it with the following\n",
      "  command:\n",
      "\n",
      "    streamlit run /Users/MacUser/opt/anaconda3/lib/python3.9/site-packages/ipykernel_launcher.py [ARGUMENTS]\n"
     ]
    },
    {
     "data": {
      "text/plain": [
       "DeltaGenerator()"
      ]
     },
     "execution_count": 6,
     "metadata": {},
     "output_type": "execute_result"
    }
   ],
   "source": [
    "# Create Altair chart with tooltips\n",
    "chart = alt.Chart(result_df_1).mark_bar().encode(\n",
    "    x='title',\n",
    "    y='min_price',\n",
    "    tooltip=['title', 'min_price']\n",
    ").interactive()\n",
    "\n",
    "# Display the chart using Streamlit Vega-Lite\n",
    "st.altair_chart(chart\n",
    "                #, use_container_width=True\n",
    "               )"
   ]
  },
  {
   "cell_type": "markdown",
   "id": "784aa1cc",
   "metadata": {},
   "source": [
    "#### Show stocks and median value"
   ]
  },
  {
   "cell_type": "code",
   "execution_count": 7,
   "id": "f7b99ae8",
   "metadata": {},
   "outputs": [],
   "source": [
    "# Execute SQL queries to create a table only for whisky records\n",
    "results = conn.execute(\"\"\"SELECT COUNT (*) stock_count,\n",
    "                          MEDIAN (price_gbp) median_price,\n",
    "                          import_date\n",
    "                          FROM whisky_stocks_table \n",
    "                          GROUP BY import_date\n",
    "                          ORDER BY 3 DESC\n",
    "                \"\"\").fetchdf()\n",
    "\n",
    "# Convert the results to a DataFrame\n",
    "result_df_2 = pd.DataFrame(results)"
   ]
  },
  {
   "cell_type": "code",
   "execution_count": 11,
   "id": "3e014711",
   "metadata": {},
   "outputs": [],
   "source": [
    "# Convert import_date to datetime\n",
    "result_df_2['import_date'] = pd.to_datetime(result_df_2['import_date'])\n",
    "\n",
    "# Extract date part\n",
    "result_df_2['import_date'] = result_df_2['import_date'].dt.date\n",
    "\n",
    "result_df_2['import_date'] = result_df_2['import_date'].astype(str).str[:10]"
   ]
  },
  {
   "cell_type": "code",
   "execution_count": null,
   "id": "eaa63a8f",
   "metadata": {},
   "outputs": [],
   "source": [
    "# Add a title to the Streamlit app\n",
    "st.title('Stock and Median Price Check')"
   ]
  },
  {
   "cell_type": "code",
   "execution_count": 13,
   "id": "87a30033",
   "metadata": {},
   "outputs": [
    {
     "data": {
      "text/html": [
       "<div>\n",
       "<style scoped>\n",
       "    .dataframe tbody tr th:only-of-type {\n",
       "        vertical-align: middle;\n",
       "    }\n",
       "\n",
       "    .dataframe tbody tr th {\n",
       "        vertical-align: top;\n",
       "    }\n",
       "\n",
       "    .dataframe thead th {\n",
       "        text-align: right;\n",
       "    }\n",
       "</style>\n",
       "<table border=\"1\" class=\"dataframe\">\n",
       "  <thead>\n",
       "    <tr style=\"text-align: right;\">\n",
       "      <th></th>\n",
       "      <th>stock_count</th>\n",
       "      <th>median_price</th>\n",
       "      <th>import_date</th>\n",
       "    </tr>\n",
       "  </thead>\n",
       "  <tbody>\n",
       "    <tr>\n",
       "      <th>0</th>\n",
       "      <td>1342</td>\n",
       "      <td>233.5</td>\n",
       "      <td>2024-03-23</td>\n",
       "    </tr>\n",
       "    <tr>\n",
       "      <th>1</th>\n",
       "      <td>1348</td>\n",
       "      <td>240.0</td>\n",
       "      <td>2024-03-24</td>\n",
       "    </tr>\n",
       "  </tbody>\n",
       "</table>\n",
       "</div>"
      ],
      "text/plain": [
       "   stock_count  median_price import_date\n",
       "0         1342         233.5  2024-03-23\n",
       "1         1348         240.0  2024-03-24"
      ]
     },
     "execution_count": 13,
     "metadata": {},
     "output_type": "execute_result"
    }
   ],
   "source": [
    "result_df_2"
   ]
  },
  {
   "cell_type": "code",
   "execution_count": 68,
   "id": "bbde2a6a",
   "metadata": {},
   "outputs": [],
   "source": [
    "# Create Altair chart\n",
    "primary_y_axis = alt.Axis(title='Stock Count', grid=False)\n",
    "secondary_y_axis = alt.Axis(title='Median Price', grid=False, orient='right')\n",
    "\n",
    "# Line chart for stock count\n",
    "line_chart_stock_count = alt.Chart(result_df_2).mark_point(color='blue').encode(\n",
    "    x='import_date',\n",
    "    y=alt.Y('stock_count:Q', axis=primary_y_axis),\n",
    ")\n",
    "\n",
    "# Line chart for median price\n",
    "line_chart_median_price = alt.Chart(result_df_2).mark_point(color='red').encode(\n",
    "    x='import_date',\n",
    "    y=alt.Y('median_price:Q', axis=secondary_y_axis),\n",
    ")\n",
    "\n",
    "# Combine both charts\n",
    "combined_chart = line_chart_stock_count + line_chart_median_price\n",
    "\n",
    "# Display the chart using Streamlit Vega-Lite\n",
    "st.altair_chart(combined_chart, use_container_width=True)"
   ]
  },
  {
   "cell_type": "markdown",
   "id": "74cd7a91",
   "metadata": {},
   "source": [
    "#### Price Search"
   ]
  },
  {
   "cell_type": "code",
   "execution_count": 69,
   "id": "85b87f5b",
   "metadata": {},
   "outputs": [],
   "source": [
    "# Execute SQL queries to create a table only for whisky records\n",
    "results = conn.execute(\"\"\"SELECT MAX (price_gbp) price_gbp,\n",
    "                          title\n",
    "                          FROM whisky_stocks_table \n",
    "                          GROUP BY title\n",
    "                          ORDER BY 1 DESC\n",
    "                \"\"\").fetchdf()\n",
    "\n",
    "# Convert the results to a DataFrame\n",
    "result_df_3 = pd.DataFrame(results)"
   ]
  },
  {
   "cell_type": "code",
   "execution_count": 70,
   "id": "06a1ae48",
   "metadata": {},
   "outputs": [
    {
     "data": {
      "text/html": [
       "<div>\n",
       "<style scoped>\n",
       "    .dataframe tbody tr th:only-of-type {\n",
       "        vertical-align: middle;\n",
       "    }\n",
       "\n",
       "    .dataframe tbody tr th {\n",
       "        vertical-align: top;\n",
       "    }\n",
       "\n",
       "    .dataframe thead th {\n",
       "        text-align: right;\n",
       "    }\n",
       "</style>\n",
       "<table border=\"1\" class=\"dataframe\">\n",
       "  <thead>\n",
       "    <tr style=\"text-align: right;\">\n",
       "      <th></th>\n",
       "      <th>price_gbp</th>\n",
       "      <th>title</th>\n",
       "    </tr>\n",
       "  </thead>\n",
       "  <tbody>\n",
       "    <tr>\n",
       "      <th>0</th>\n",
       "      <td>700000.0</td>\n",
       "      <td>Macallan Red Collection Six Bottle Set</td>\n",
       "    </tr>\n",
       "    <tr>\n",
       "      <th>1</th>\n",
       "      <td>370000.0</td>\n",
       "      <td>Macallan 60 Year Old Red Collection</td>\n",
       "    </tr>\n",
       "    <tr>\n",
       "      <th>2</th>\n",
       "      <td>140000.0</td>\n",
       "      <td>Bowmore Black DB5 1964</td>\n",
       "    </tr>\n",
       "    <tr>\n",
       "      <th>3</th>\n",
       "      <td>95000.0</td>\n",
       "      <td>Yamazaki Junshin</td>\n",
       "    </tr>\n",
       "    <tr>\n",
       "      <th>4</th>\n",
       "      <td>80600.0</td>\n",
       "      <td>Macallan Lalique Golden Age of Travel Aeroplan...</td>\n",
       "    </tr>\n",
       "    <tr>\n",
       "      <th>...</th>\n",
       "      <td>...</td>\n",
       "      <td>...</td>\n",
       "    </tr>\n",
       "    <tr>\n",
       "      <th>1342</th>\n",
       "      <td>5.0</td>\n",
       "      <td>Brenne Cuvee Speciale 3cl</td>\n",
       "    </tr>\n",
       "    <tr>\n",
       "      <th>1343</th>\n",
       "      <td>4.9</td>\n",
       "      <td>Rock Oyster 3cl</td>\n",
       "    </tr>\n",
       "    <tr>\n",
       "      <th>1344</th>\n",
       "      <td>4.6</td>\n",
       "      <td>Kirkwall Bay 3cl</td>\n",
       "    </tr>\n",
       "    <tr>\n",
       "      <th>1345</th>\n",
       "      <td>4.5</td>\n",
       "      <td>Singleton of Dufftown Malt Master`s Selection 3cl</td>\n",
       "    </tr>\n",
       "    <tr>\n",
       "      <th>1346</th>\n",
       "      <td>3.0</td>\n",
       "      <td>Paul John Edited 3cl</td>\n",
       "    </tr>\n",
       "  </tbody>\n",
       "</table>\n",
       "<p>1347 rows × 2 columns</p>\n",
       "</div>"
      ],
      "text/plain": [
       "      price_gbp                                              title\n",
       "0      700000.0         Macallan Red Collection Six Bottle Set    \n",
       "1      370000.0                Macallan 60 Year Old Red Collection\n",
       "2      140000.0                           Bowmore Black DB5 1964  \n",
       "3       95000.0                                   Yamazaki Junshin\n",
       "4       80600.0  Macallan Lalique Golden Age of Travel Aeroplan...\n",
       "...         ...                                                ...\n",
       "1342        5.0                          Brenne Cuvee Speciale 3cl\n",
       "1343        4.9                                    Rock Oyster 3cl\n",
       "1344        4.6                                   Kirkwall Bay 3cl\n",
       "1345        4.5  Singleton of Dufftown Malt Master`s Selection 3cl\n",
       "1346        3.0                               Paul John Edited 3cl\n",
       "\n",
       "[1347 rows x 2 columns]"
      ]
     },
     "execution_count": 70,
     "metadata": {},
     "output_type": "execute_result"
    }
   ],
   "source": [
    "#result_df_3"
   ]
  },
  {
   "cell_type": "code",
   "execution_count": null,
   "id": "1bddcef0",
   "metadata": {},
   "outputs": [],
   "source": [
    "# Add a title to the Streamlit app\n",
    "st.title('Price Search')"
   ]
  },
  {
   "cell_type": "code",
   "execution_count": 71,
   "id": "fd3e8b4a",
   "metadata": {},
   "outputs": [
    {
     "data": {
      "text/plain": [
       "DeltaGenerator()"
      ]
     },
     "execution_count": 71,
     "metadata": {},
     "output_type": "execute_result"
    }
   ],
   "source": [
    "# Create text input boxes for the left and right values of the slider\n",
    "left_value = st.text_input('Enter left value:', value='0')\n",
    "right_value = st.text_input('Enter right value:', value='5000')\n",
    "\n",
    "# Create a text input box for filtering the title\n",
    "title_filter = st.text_input('Enter title:', value='Yamazaki')\n",
    "\n",
    "# Convert the input values to integers\n",
    "left_value = int(left_value)\n",
    "right_value = int(right_value)\n",
    "\n",
    "# Create a slider for selecting the price range\n",
    "price_range = st.slider('Select price range (GBP)', min_value=0, max_value=700000, value=(left_value, right_value), step=1000)\n",
    "\n",
    "# Filter the DataFrame based on the selected price range\n",
    "\n",
    "# Filter the DataFrame based on the selected price range and title filter\n",
    "filtered_df = result_df_3[\n",
    "    (result_df_3['price_gbp'] >= price_range[0]) & \n",
    "    (result_df_3['price_gbp'] <= price_range[1]) &\n",
    "    (result_df_3['title'].str.contains(title_filter, case=False))\n",
    "]\n",
    "\n",
    "#filtered_df = result_df_3[(result_df_3['price_gbp'] >= price_range[0]) & (result_df_3['price_gbp'] <= price_range[1])]\n",
    "\n",
    "# Create Altair chart with tooltips\n",
    "chart = alt.Chart(filtered_df).mark_bar().encode(\n",
    "    x=alt.X('title', sort='-y'),\n",
    "    y='price_gbp',\n",
    "    tooltip=['title', 'price_gbp']\n",
    ").interactive()\n",
    "\n",
    "# Display the chart using Streamlit Vega-Lite\n",
    "st.altair_chart(chart\n",
    "                #, use_container_width=True\n",
    "               )\n"
   ]
  },
  {
   "cell_type": "code",
   "execution_count": 61,
   "id": "46f4f32d",
   "metadata": {},
   "outputs": [],
   "source": [
    "conn.close()"
   ]
  },
  {
   "cell_type": "markdown",
   "id": "5126448c",
   "metadata": {},
   "source": [
    "### Convert notebook into .py file"
   ]
  },
  {
   "cell_type": "code",
   "execution_count": 21,
   "id": "b7a3d7cf",
   "metadata": {},
   "outputs": [
    {
     "name": "stdout",
     "output_type": "stream",
     "text": [
      "[NbConvertApp] Converting notebook hedonism_wines.ipynb to script\n",
      "[NbConvertApp] Writing 12154 bytes to /Users/MacUser/hedonism-wines_app/hedonism_wines.py\n"
     ]
    }
   ],
   "source": [
    "! jupyter nbconvert --to script hedonism_wines.ipynb --output-dir /Users/MacUser/hedonism-wines_app"
   ]
  },
  {
   "cell_type": "markdown",
   "id": "f64c5ba0",
   "metadata": {},
   "source": [
    "### GenAI Part"
   ]
  },
  {
   "cell_type": "code",
   "execution_count": 23,
   "id": "af0f6edd",
   "metadata": {},
   "outputs": [],
   "source": [
    "# import openai\n",
    "# import os\n",
    "# from dotenv import load_dotenv"
   ]
  },
  {
   "cell_type": "code",
   "execution_count": 24,
   "id": "41569e02",
   "metadata": {},
   "outputs": [],
   "source": [
    "# # Load environment variables from .env file\n",
    "# load_dotenv()\n",
    "\n",
    "# # Access the API key from the environment\n",
    "# api_key = os.getenv(\"OPENAI_API_KEY\")"
   ]
  },
  {
   "cell_type": "code",
   "execution_count": 25,
   "id": "ad53f961",
   "metadata": {},
   "outputs": [
    {
     "ename": "RateLimitError",
     "evalue": "Error code: 429 - {'error': {'message': 'You exceeded your current quota, please check your plan and billing details. For more information on this error, read the docs: https://platform.openai.com/docs/guides/error-codes/api-errors.', 'type': 'insufficient_quota', 'param': None, 'code': 'insufficient_quota'}}",
     "output_type": "error",
     "traceback": [
      "\u001b[0;31m---------------------------------------------------------------------------\u001b[0m",
      "\u001b[0;31mRateLimitError\u001b[0m                            Traceback (most recent call last)",
      "Cell \u001b[0;32mIn[25], line 9\u001b[0m\n\u001b[1;32m      2\u001b[0m \u001b[38;5;28;01mfrom\u001b[39;00m \u001b[38;5;21;01mopenai\u001b[39;00m \u001b[38;5;28;01mimport\u001b[39;00m OpenAI\n\u001b[1;32m      4\u001b[0m client \u001b[38;5;241m=\u001b[39m OpenAI(\n\u001b[1;32m      5\u001b[0m     \u001b[38;5;66;03m# This is the default and can be omitted\u001b[39;00m\n\u001b[1;32m      6\u001b[0m     api_key\u001b[38;5;241m=\u001b[39mos\u001b[38;5;241m.\u001b[39menviron\u001b[38;5;241m.\u001b[39mget(\u001b[38;5;124m\"\u001b[39m\u001b[38;5;124mOPENAI_API_KEY\u001b[39m\u001b[38;5;124m\"\u001b[39m),\n\u001b[1;32m      7\u001b[0m )\n\u001b[0;32m----> 9\u001b[0m chat_completion \u001b[38;5;241m=\u001b[39m \u001b[43mclient\u001b[49m\u001b[38;5;241;43m.\u001b[39;49m\u001b[43mchat\u001b[49m\u001b[38;5;241;43m.\u001b[39;49m\u001b[43mcompletions\u001b[49m\u001b[38;5;241;43m.\u001b[39;49m\u001b[43mcreate\u001b[49m\u001b[43m(\u001b[49m\n\u001b[1;32m     10\u001b[0m \u001b[43m    \u001b[49m\u001b[43mmessages\u001b[49m\u001b[38;5;241;43m=\u001b[39;49m\u001b[43m[\u001b[49m\n\u001b[1;32m     11\u001b[0m \u001b[43m        \u001b[49m\u001b[43m{\u001b[49m\n\u001b[1;32m     12\u001b[0m \u001b[43m            \u001b[49m\u001b[38;5;124;43m\"\u001b[39;49m\u001b[38;5;124;43mrole\u001b[39;49m\u001b[38;5;124;43m\"\u001b[39;49m\u001b[43m:\u001b[49m\u001b[43m \u001b[49m\u001b[38;5;124;43m\"\u001b[39;49m\u001b[38;5;124;43muser\u001b[39;49m\u001b[38;5;124;43m\"\u001b[39;49m\u001b[43m,\u001b[49m\n\u001b[1;32m     13\u001b[0m \u001b[43m            \u001b[49m\u001b[38;5;124;43m\"\u001b[39;49m\u001b[38;5;124;43mcontent\u001b[39;49m\u001b[38;5;124;43m\"\u001b[39;49m\u001b[43m:\u001b[49m\u001b[43m \u001b[49m\u001b[38;5;124;43m\"\u001b[39;49m\u001b[38;5;124;43mSay this is a test\u001b[39;49m\u001b[38;5;124;43m\"\u001b[39;49m\u001b[43m,\u001b[49m\n\u001b[1;32m     14\u001b[0m \u001b[43m        \u001b[49m\u001b[43m}\u001b[49m\n\u001b[1;32m     15\u001b[0m \u001b[43m    \u001b[49m\u001b[43m]\u001b[49m\u001b[43m,\u001b[49m\n\u001b[1;32m     16\u001b[0m \u001b[43m    \u001b[49m\u001b[43mmodel\u001b[49m\u001b[38;5;241;43m=\u001b[39;49m\u001b[38;5;124;43m\"\u001b[39;49m\u001b[38;5;124;43mgpt-3.5-turbo\u001b[39;49m\u001b[38;5;124;43m\"\u001b[39;49m\u001b[43m,\u001b[49m\n\u001b[1;32m     17\u001b[0m \u001b[43m)\u001b[49m\n",
      "File \u001b[0;32m~/opt/anaconda3/lib/python3.9/site-packages/openai/_utils/_utils.py:275\u001b[0m, in \u001b[0;36mrequired_args.<locals>.inner.<locals>.wrapper\u001b[0;34m(*args, **kwargs)\u001b[0m\n\u001b[1;32m    273\u001b[0m             msg \u001b[38;5;241m=\u001b[39m \u001b[38;5;124mf\u001b[39m\u001b[38;5;124m\"\u001b[39m\u001b[38;5;124mMissing required argument: \u001b[39m\u001b[38;5;132;01m{\u001b[39;00mquote(missing[\u001b[38;5;241m0\u001b[39m])\u001b[38;5;132;01m}\u001b[39;00m\u001b[38;5;124m\"\u001b[39m\n\u001b[1;32m    274\u001b[0m     \u001b[38;5;28;01mraise\u001b[39;00m \u001b[38;5;167;01mTypeError\u001b[39;00m(msg)\n\u001b[0;32m--> 275\u001b[0m \u001b[38;5;28;01mreturn\u001b[39;00m \u001b[43mfunc\u001b[49m\u001b[43m(\u001b[49m\u001b[38;5;241;43m*\u001b[39;49m\u001b[43margs\u001b[49m\u001b[43m,\u001b[49m\u001b[43m \u001b[49m\u001b[38;5;241;43m*\u001b[39;49m\u001b[38;5;241;43m*\u001b[39;49m\u001b[43mkwargs\u001b[49m\u001b[43m)\u001b[49m\n",
      "File \u001b[0;32m~/opt/anaconda3/lib/python3.9/site-packages/openai/resources/chat/completions.py:667\u001b[0m, in \u001b[0;36mCompletions.create\u001b[0;34m(self, messages, model, frequency_penalty, function_call, functions, logit_bias, logprobs, max_tokens, n, presence_penalty, response_format, seed, stop, stream, temperature, tool_choice, tools, top_logprobs, top_p, user, extra_headers, extra_query, extra_body, timeout)\u001b[0m\n\u001b[1;32m    615\u001b[0m \u001b[38;5;129m@required_args\u001b[39m([\u001b[38;5;124m\"\u001b[39m\u001b[38;5;124mmessages\u001b[39m\u001b[38;5;124m\"\u001b[39m, \u001b[38;5;124m\"\u001b[39m\u001b[38;5;124mmodel\u001b[39m\u001b[38;5;124m\"\u001b[39m], [\u001b[38;5;124m\"\u001b[39m\u001b[38;5;124mmessages\u001b[39m\u001b[38;5;124m\"\u001b[39m, \u001b[38;5;124m\"\u001b[39m\u001b[38;5;124mmodel\u001b[39m\u001b[38;5;124m\"\u001b[39m, \u001b[38;5;124m\"\u001b[39m\u001b[38;5;124mstream\u001b[39m\u001b[38;5;124m\"\u001b[39m])\n\u001b[1;32m    616\u001b[0m \u001b[38;5;28;01mdef\u001b[39;00m \u001b[38;5;21mcreate\u001b[39m(\n\u001b[1;32m    617\u001b[0m     \u001b[38;5;28mself\u001b[39m,\n\u001b[0;32m   (...)\u001b[0m\n\u001b[1;32m    665\u001b[0m     timeout: \u001b[38;5;28mfloat\u001b[39m \u001b[38;5;241m|\u001b[39m httpx\u001b[38;5;241m.\u001b[39mTimeout \u001b[38;5;241m|\u001b[39m \u001b[38;5;28;01mNone\u001b[39;00m \u001b[38;5;241m|\u001b[39m NotGiven \u001b[38;5;241m=\u001b[39m NOT_GIVEN,\n\u001b[1;32m    666\u001b[0m ) \u001b[38;5;241m-\u001b[39m\u001b[38;5;241m>\u001b[39m ChatCompletion \u001b[38;5;241m|\u001b[39m Stream[ChatCompletionChunk]:\n\u001b[0;32m--> 667\u001b[0m     \u001b[38;5;28;01mreturn\u001b[39;00m \u001b[38;5;28;43mself\u001b[39;49m\u001b[38;5;241;43m.\u001b[39;49m\u001b[43m_post\u001b[49m\u001b[43m(\u001b[49m\n\u001b[1;32m    668\u001b[0m \u001b[43m        \u001b[49m\u001b[38;5;124;43m\"\u001b[39;49m\u001b[38;5;124;43m/chat/completions\u001b[39;49m\u001b[38;5;124;43m\"\u001b[39;49m\u001b[43m,\u001b[49m\n\u001b[1;32m    669\u001b[0m \u001b[43m        \u001b[49m\u001b[43mbody\u001b[49m\u001b[38;5;241;43m=\u001b[39;49m\u001b[43mmaybe_transform\u001b[49m\u001b[43m(\u001b[49m\n\u001b[1;32m    670\u001b[0m \u001b[43m            \u001b[49m\u001b[43m{\u001b[49m\n\u001b[1;32m    671\u001b[0m \u001b[43m                \u001b[49m\u001b[38;5;124;43m\"\u001b[39;49m\u001b[38;5;124;43mmessages\u001b[39;49m\u001b[38;5;124;43m\"\u001b[39;49m\u001b[43m:\u001b[49m\u001b[43m \u001b[49m\u001b[43mmessages\u001b[49m\u001b[43m,\u001b[49m\n\u001b[1;32m    672\u001b[0m \u001b[43m                \u001b[49m\u001b[38;5;124;43m\"\u001b[39;49m\u001b[38;5;124;43mmodel\u001b[39;49m\u001b[38;5;124;43m\"\u001b[39;49m\u001b[43m:\u001b[49m\u001b[43m \u001b[49m\u001b[43mmodel\u001b[49m\u001b[43m,\u001b[49m\n\u001b[1;32m    673\u001b[0m \u001b[43m                \u001b[49m\u001b[38;5;124;43m\"\u001b[39;49m\u001b[38;5;124;43mfrequency_penalty\u001b[39;49m\u001b[38;5;124;43m\"\u001b[39;49m\u001b[43m:\u001b[49m\u001b[43m \u001b[49m\u001b[43mfrequency_penalty\u001b[49m\u001b[43m,\u001b[49m\n\u001b[1;32m    674\u001b[0m \u001b[43m                \u001b[49m\u001b[38;5;124;43m\"\u001b[39;49m\u001b[38;5;124;43mfunction_call\u001b[39;49m\u001b[38;5;124;43m\"\u001b[39;49m\u001b[43m:\u001b[49m\u001b[43m \u001b[49m\u001b[43mfunction_call\u001b[49m\u001b[43m,\u001b[49m\n\u001b[1;32m    675\u001b[0m \u001b[43m                \u001b[49m\u001b[38;5;124;43m\"\u001b[39;49m\u001b[38;5;124;43mfunctions\u001b[39;49m\u001b[38;5;124;43m\"\u001b[39;49m\u001b[43m:\u001b[49m\u001b[43m \u001b[49m\u001b[43mfunctions\u001b[49m\u001b[43m,\u001b[49m\n\u001b[1;32m    676\u001b[0m \u001b[43m                \u001b[49m\u001b[38;5;124;43m\"\u001b[39;49m\u001b[38;5;124;43mlogit_bias\u001b[39;49m\u001b[38;5;124;43m\"\u001b[39;49m\u001b[43m:\u001b[49m\u001b[43m \u001b[49m\u001b[43mlogit_bias\u001b[49m\u001b[43m,\u001b[49m\n\u001b[1;32m    677\u001b[0m \u001b[43m                \u001b[49m\u001b[38;5;124;43m\"\u001b[39;49m\u001b[38;5;124;43mlogprobs\u001b[39;49m\u001b[38;5;124;43m\"\u001b[39;49m\u001b[43m:\u001b[49m\u001b[43m \u001b[49m\u001b[43mlogprobs\u001b[49m\u001b[43m,\u001b[49m\n\u001b[1;32m    678\u001b[0m \u001b[43m                \u001b[49m\u001b[38;5;124;43m\"\u001b[39;49m\u001b[38;5;124;43mmax_tokens\u001b[39;49m\u001b[38;5;124;43m\"\u001b[39;49m\u001b[43m:\u001b[49m\u001b[43m \u001b[49m\u001b[43mmax_tokens\u001b[49m\u001b[43m,\u001b[49m\n\u001b[1;32m    679\u001b[0m \u001b[43m                \u001b[49m\u001b[38;5;124;43m\"\u001b[39;49m\u001b[38;5;124;43mn\u001b[39;49m\u001b[38;5;124;43m\"\u001b[39;49m\u001b[43m:\u001b[49m\u001b[43m \u001b[49m\u001b[43mn\u001b[49m\u001b[43m,\u001b[49m\n\u001b[1;32m    680\u001b[0m \u001b[43m                \u001b[49m\u001b[38;5;124;43m\"\u001b[39;49m\u001b[38;5;124;43mpresence_penalty\u001b[39;49m\u001b[38;5;124;43m\"\u001b[39;49m\u001b[43m:\u001b[49m\u001b[43m \u001b[49m\u001b[43mpresence_penalty\u001b[49m\u001b[43m,\u001b[49m\n\u001b[1;32m    681\u001b[0m \u001b[43m                \u001b[49m\u001b[38;5;124;43m\"\u001b[39;49m\u001b[38;5;124;43mresponse_format\u001b[39;49m\u001b[38;5;124;43m\"\u001b[39;49m\u001b[43m:\u001b[49m\u001b[43m \u001b[49m\u001b[43mresponse_format\u001b[49m\u001b[43m,\u001b[49m\n\u001b[1;32m    682\u001b[0m \u001b[43m                \u001b[49m\u001b[38;5;124;43m\"\u001b[39;49m\u001b[38;5;124;43mseed\u001b[39;49m\u001b[38;5;124;43m\"\u001b[39;49m\u001b[43m:\u001b[49m\u001b[43m \u001b[49m\u001b[43mseed\u001b[49m\u001b[43m,\u001b[49m\n\u001b[1;32m    683\u001b[0m \u001b[43m                \u001b[49m\u001b[38;5;124;43m\"\u001b[39;49m\u001b[38;5;124;43mstop\u001b[39;49m\u001b[38;5;124;43m\"\u001b[39;49m\u001b[43m:\u001b[49m\u001b[43m \u001b[49m\u001b[43mstop\u001b[49m\u001b[43m,\u001b[49m\n\u001b[1;32m    684\u001b[0m \u001b[43m                \u001b[49m\u001b[38;5;124;43m\"\u001b[39;49m\u001b[38;5;124;43mstream\u001b[39;49m\u001b[38;5;124;43m\"\u001b[39;49m\u001b[43m:\u001b[49m\u001b[43m \u001b[49m\u001b[43mstream\u001b[49m\u001b[43m,\u001b[49m\n\u001b[1;32m    685\u001b[0m \u001b[43m                \u001b[49m\u001b[38;5;124;43m\"\u001b[39;49m\u001b[38;5;124;43mtemperature\u001b[39;49m\u001b[38;5;124;43m\"\u001b[39;49m\u001b[43m:\u001b[49m\u001b[43m \u001b[49m\u001b[43mtemperature\u001b[49m\u001b[43m,\u001b[49m\n\u001b[1;32m    686\u001b[0m \u001b[43m                \u001b[49m\u001b[38;5;124;43m\"\u001b[39;49m\u001b[38;5;124;43mtool_choice\u001b[39;49m\u001b[38;5;124;43m\"\u001b[39;49m\u001b[43m:\u001b[49m\u001b[43m \u001b[49m\u001b[43mtool_choice\u001b[49m\u001b[43m,\u001b[49m\n\u001b[1;32m    687\u001b[0m \u001b[43m                \u001b[49m\u001b[38;5;124;43m\"\u001b[39;49m\u001b[38;5;124;43mtools\u001b[39;49m\u001b[38;5;124;43m\"\u001b[39;49m\u001b[43m:\u001b[49m\u001b[43m \u001b[49m\u001b[43mtools\u001b[49m\u001b[43m,\u001b[49m\n\u001b[1;32m    688\u001b[0m \u001b[43m                \u001b[49m\u001b[38;5;124;43m\"\u001b[39;49m\u001b[38;5;124;43mtop_logprobs\u001b[39;49m\u001b[38;5;124;43m\"\u001b[39;49m\u001b[43m:\u001b[49m\u001b[43m \u001b[49m\u001b[43mtop_logprobs\u001b[49m\u001b[43m,\u001b[49m\n\u001b[1;32m    689\u001b[0m \u001b[43m                \u001b[49m\u001b[38;5;124;43m\"\u001b[39;49m\u001b[38;5;124;43mtop_p\u001b[39;49m\u001b[38;5;124;43m\"\u001b[39;49m\u001b[43m:\u001b[49m\u001b[43m \u001b[49m\u001b[43mtop_p\u001b[49m\u001b[43m,\u001b[49m\n\u001b[1;32m    690\u001b[0m \u001b[43m                \u001b[49m\u001b[38;5;124;43m\"\u001b[39;49m\u001b[38;5;124;43muser\u001b[39;49m\u001b[38;5;124;43m\"\u001b[39;49m\u001b[43m:\u001b[49m\u001b[43m \u001b[49m\u001b[43muser\u001b[49m\u001b[43m,\u001b[49m\n\u001b[1;32m    691\u001b[0m \u001b[43m            \u001b[49m\u001b[43m}\u001b[49m\u001b[43m,\u001b[49m\n\u001b[1;32m    692\u001b[0m \u001b[43m            \u001b[49m\u001b[43mcompletion_create_params\u001b[49m\u001b[38;5;241;43m.\u001b[39;49m\u001b[43mCompletionCreateParams\u001b[49m\u001b[43m,\u001b[49m\n\u001b[1;32m    693\u001b[0m \u001b[43m        \u001b[49m\u001b[43m)\u001b[49m\u001b[43m,\u001b[49m\n\u001b[1;32m    694\u001b[0m \u001b[43m        \u001b[49m\u001b[43moptions\u001b[49m\u001b[38;5;241;43m=\u001b[39;49m\u001b[43mmake_request_options\u001b[49m\u001b[43m(\u001b[49m\n\u001b[1;32m    695\u001b[0m \u001b[43m            \u001b[49m\u001b[43mextra_headers\u001b[49m\u001b[38;5;241;43m=\u001b[39;49m\u001b[43mextra_headers\u001b[49m\u001b[43m,\u001b[49m\u001b[43m \u001b[49m\u001b[43mextra_query\u001b[49m\u001b[38;5;241;43m=\u001b[39;49m\u001b[43mextra_query\u001b[49m\u001b[43m,\u001b[49m\u001b[43m \u001b[49m\u001b[43mextra_body\u001b[49m\u001b[38;5;241;43m=\u001b[39;49m\u001b[43mextra_body\u001b[49m\u001b[43m,\u001b[49m\u001b[43m \u001b[49m\u001b[43mtimeout\u001b[49m\u001b[38;5;241;43m=\u001b[39;49m\u001b[43mtimeout\u001b[49m\n\u001b[1;32m    696\u001b[0m \u001b[43m        \u001b[49m\u001b[43m)\u001b[49m\u001b[43m,\u001b[49m\n\u001b[1;32m    697\u001b[0m \u001b[43m        \u001b[49m\u001b[43mcast_to\u001b[49m\u001b[38;5;241;43m=\u001b[39;49m\u001b[43mChatCompletion\u001b[49m\u001b[43m,\u001b[49m\n\u001b[1;32m    698\u001b[0m \u001b[43m        \u001b[49m\u001b[43mstream\u001b[49m\u001b[38;5;241;43m=\u001b[39;49m\u001b[43mstream\u001b[49m\u001b[43m \u001b[49m\u001b[38;5;129;43;01mor\u001b[39;49;00m\u001b[43m \u001b[49m\u001b[38;5;28;43;01mFalse\u001b[39;49;00m\u001b[43m,\u001b[49m\n\u001b[1;32m    699\u001b[0m \u001b[43m        \u001b[49m\u001b[43mstream_cls\u001b[49m\u001b[38;5;241;43m=\u001b[39;49m\u001b[43mStream\u001b[49m\u001b[43m[\u001b[49m\u001b[43mChatCompletionChunk\u001b[49m\u001b[43m]\u001b[49m\u001b[43m,\u001b[49m\n\u001b[1;32m    700\u001b[0m \u001b[43m    \u001b[49m\u001b[43m)\u001b[49m\n",
      "File \u001b[0;32m~/opt/anaconda3/lib/python3.9/site-packages/openai/_base_client.py:1208\u001b[0m, in \u001b[0;36mSyncAPIClient.post\u001b[0;34m(self, path, cast_to, body, options, files, stream, stream_cls)\u001b[0m\n\u001b[1;32m   1194\u001b[0m \u001b[38;5;28;01mdef\u001b[39;00m \u001b[38;5;21mpost\u001b[39m(\n\u001b[1;32m   1195\u001b[0m     \u001b[38;5;28mself\u001b[39m,\n\u001b[1;32m   1196\u001b[0m     path: \u001b[38;5;28mstr\u001b[39m,\n\u001b[0;32m   (...)\u001b[0m\n\u001b[1;32m   1203\u001b[0m     stream_cls: \u001b[38;5;28mtype\u001b[39m[_StreamT] \u001b[38;5;241m|\u001b[39m \u001b[38;5;28;01mNone\u001b[39;00m \u001b[38;5;241m=\u001b[39m \u001b[38;5;28;01mNone\u001b[39;00m,\n\u001b[1;32m   1204\u001b[0m ) \u001b[38;5;241m-\u001b[39m\u001b[38;5;241m>\u001b[39m ResponseT \u001b[38;5;241m|\u001b[39m _StreamT:\n\u001b[1;32m   1205\u001b[0m     opts \u001b[38;5;241m=\u001b[39m FinalRequestOptions\u001b[38;5;241m.\u001b[39mconstruct(\n\u001b[1;32m   1206\u001b[0m         method\u001b[38;5;241m=\u001b[39m\u001b[38;5;124m\"\u001b[39m\u001b[38;5;124mpost\u001b[39m\u001b[38;5;124m\"\u001b[39m, url\u001b[38;5;241m=\u001b[39mpath, json_data\u001b[38;5;241m=\u001b[39mbody, files\u001b[38;5;241m=\u001b[39mto_httpx_files(files), \u001b[38;5;241m*\u001b[39m\u001b[38;5;241m*\u001b[39moptions\n\u001b[1;32m   1207\u001b[0m     )\n\u001b[0;32m-> 1208\u001b[0m     \u001b[38;5;28;01mreturn\u001b[39;00m cast(ResponseT, \u001b[38;5;28;43mself\u001b[39;49m\u001b[38;5;241;43m.\u001b[39;49m\u001b[43mrequest\u001b[49m\u001b[43m(\u001b[49m\u001b[43mcast_to\u001b[49m\u001b[43m,\u001b[49m\u001b[43m \u001b[49m\u001b[43mopts\u001b[49m\u001b[43m,\u001b[49m\u001b[43m \u001b[49m\u001b[43mstream\u001b[49m\u001b[38;5;241;43m=\u001b[39;49m\u001b[43mstream\u001b[49m\u001b[43m,\u001b[49m\u001b[43m \u001b[49m\u001b[43mstream_cls\u001b[49m\u001b[38;5;241;43m=\u001b[39;49m\u001b[43mstream_cls\u001b[49m\u001b[43m)\u001b[49m)\n",
      "File \u001b[0;32m~/opt/anaconda3/lib/python3.9/site-packages/openai/_base_client.py:897\u001b[0m, in \u001b[0;36mSyncAPIClient.request\u001b[0;34m(self, cast_to, options, remaining_retries, stream, stream_cls)\u001b[0m\n\u001b[1;32m    888\u001b[0m \u001b[38;5;28;01mdef\u001b[39;00m \u001b[38;5;21mrequest\u001b[39m(\n\u001b[1;32m    889\u001b[0m     \u001b[38;5;28mself\u001b[39m,\n\u001b[1;32m    890\u001b[0m     cast_to: Type[ResponseT],\n\u001b[0;32m   (...)\u001b[0m\n\u001b[1;32m    895\u001b[0m     stream_cls: \u001b[38;5;28mtype\u001b[39m[_StreamT] \u001b[38;5;241m|\u001b[39m \u001b[38;5;28;01mNone\u001b[39;00m \u001b[38;5;241m=\u001b[39m \u001b[38;5;28;01mNone\u001b[39;00m,\n\u001b[1;32m    896\u001b[0m ) \u001b[38;5;241m-\u001b[39m\u001b[38;5;241m>\u001b[39m ResponseT \u001b[38;5;241m|\u001b[39m _StreamT:\n\u001b[0;32m--> 897\u001b[0m     \u001b[38;5;28;01mreturn\u001b[39;00m \u001b[38;5;28;43mself\u001b[39;49m\u001b[38;5;241;43m.\u001b[39;49m\u001b[43m_request\u001b[49m\u001b[43m(\u001b[49m\n\u001b[1;32m    898\u001b[0m \u001b[43m        \u001b[49m\u001b[43mcast_to\u001b[49m\u001b[38;5;241;43m=\u001b[39;49m\u001b[43mcast_to\u001b[49m\u001b[43m,\u001b[49m\n\u001b[1;32m    899\u001b[0m \u001b[43m        \u001b[49m\u001b[43moptions\u001b[49m\u001b[38;5;241;43m=\u001b[39;49m\u001b[43moptions\u001b[49m\u001b[43m,\u001b[49m\n\u001b[1;32m    900\u001b[0m \u001b[43m        \u001b[49m\u001b[43mstream\u001b[49m\u001b[38;5;241;43m=\u001b[39;49m\u001b[43mstream\u001b[49m\u001b[43m,\u001b[49m\n\u001b[1;32m    901\u001b[0m \u001b[43m        \u001b[49m\u001b[43mstream_cls\u001b[49m\u001b[38;5;241;43m=\u001b[39;49m\u001b[43mstream_cls\u001b[49m\u001b[43m,\u001b[49m\n\u001b[1;32m    902\u001b[0m \u001b[43m        \u001b[49m\u001b[43mremaining_retries\u001b[49m\u001b[38;5;241;43m=\u001b[39;49m\u001b[43mremaining_retries\u001b[49m\u001b[43m,\u001b[49m\n\u001b[1;32m    903\u001b[0m \u001b[43m    \u001b[49m\u001b[43m)\u001b[49m\n",
      "File \u001b[0;32m~/opt/anaconda3/lib/python3.9/site-packages/openai/_base_client.py:973\u001b[0m, in \u001b[0;36mSyncAPIClient._request\u001b[0;34m(self, cast_to, options, remaining_retries, stream, stream_cls)\u001b[0m\n\u001b[1;32m    971\u001b[0m \u001b[38;5;28;01mif\u001b[39;00m retries \u001b[38;5;241m>\u001b[39m \u001b[38;5;241m0\u001b[39m \u001b[38;5;129;01mand\u001b[39;00m \u001b[38;5;28mself\u001b[39m\u001b[38;5;241m.\u001b[39m_should_retry(err\u001b[38;5;241m.\u001b[39mresponse):\n\u001b[1;32m    972\u001b[0m     err\u001b[38;5;241m.\u001b[39mresponse\u001b[38;5;241m.\u001b[39mclose()\n\u001b[0;32m--> 973\u001b[0m     \u001b[38;5;28;01mreturn\u001b[39;00m \u001b[38;5;28;43mself\u001b[39;49m\u001b[38;5;241;43m.\u001b[39;49m\u001b[43m_retry_request\u001b[49m\u001b[43m(\u001b[49m\n\u001b[1;32m    974\u001b[0m \u001b[43m        \u001b[49m\u001b[43moptions\u001b[49m\u001b[43m,\u001b[49m\n\u001b[1;32m    975\u001b[0m \u001b[43m        \u001b[49m\u001b[43mcast_to\u001b[49m\u001b[43m,\u001b[49m\n\u001b[1;32m    976\u001b[0m \u001b[43m        \u001b[49m\u001b[43mretries\u001b[49m\u001b[43m,\u001b[49m\n\u001b[1;32m    977\u001b[0m \u001b[43m        \u001b[49m\u001b[43merr\u001b[49m\u001b[38;5;241;43m.\u001b[39;49m\u001b[43mresponse\u001b[49m\u001b[38;5;241;43m.\u001b[39;49m\u001b[43mheaders\u001b[49m\u001b[43m,\u001b[49m\n\u001b[1;32m    978\u001b[0m \u001b[43m        \u001b[49m\u001b[43mstream\u001b[49m\u001b[38;5;241;43m=\u001b[39;49m\u001b[43mstream\u001b[49m\u001b[43m,\u001b[49m\n\u001b[1;32m    979\u001b[0m \u001b[43m        \u001b[49m\u001b[43mstream_cls\u001b[49m\u001b[38;5;241;43m=\u001b[39;49m\u001b[43mstream_cls\u001b[49m\u001b[43m,\u001b[49m\n\u001b[1;32m    980\u001b[0m \u001b[43m    \u001b[49m\u001b[43m)\u001b[49m\n\u001b[1;32m    982\u001b[0m \u001b[38;5;66;03m# If the response is streamed then we need to explicitly read the response\u001b[39;00m\n\u001b[1;32m    983\u001b[0m \u001b[38;5;66;03m# to completion before attempting to access the response text.\u001b[39;00m\n\u001b[1;32m    984\u001b[0m \u001b[38;5;28;01mif\u001b[39;00m \u001b[38;5;129;01mnot\u001b[39;00m err\u001b[38;5;241m.\u001b[39mresponse\u001b[38;5;241m.\u001b[39mis_closed:\n",
      "File \u001b[0;32m~/opt/anaconda3/lib/python3.9/site-packages/openai/_base_client.py:1021\u001b[0m, in \u001b[0;36mSyncAPIClient._retry_request\u001b[0;34m(self, options, cast_to, remaining_retries, response_headers, stream, stream_cls)\u001b[0m\n\u001b[1;32m   1017\u001b[0m \u001b[38;5;66;03m# In a synchronous context we are blocking the entire thread. Up to the library user to run the client in a\u001b[39;00m\n\u001b[1;32m   1018\u001b[0m \u001b[38;5;66;03m# different thread if necessary.\u001b[39;00m\n\u001b[1;32m   1019\u001b[0m time\u001b[38;5;241m.\u001b[39msleep(timeout)\n\u001b[0;32m-> 1021\u001b[0m \u001b[38;5;28;01mreturn\u001b[39;00m \u001b[38;5;28;43mself\u001b[39;49m\u001b[38;5;241;43m.\u001b[39;49m\u001b[43m_request\u001b[49m\u001b[43m(\u001b[49m\n\u001b[1;32m   1022\u001b[0m \u001b[43m    \u001b[49m\u001b[43moptions\u001b[49m\u001b[38;5;241;43m=\u001b[39;49m\u001b[43moptions\u001b[49m\u001b[43m,\u001b[49m\n\u001b[1;32m   1023\u001b[0m \u001b[43m    \u001b[49m\u001b[43mcast_to\u001b[49m\u001b[38;5;241;43m=\u001b[39;49m\u001b[43mcast_to\u001b[49m\u001b[43m,\u001b[49m\n\u001b[1;32m   1024\u001b[0m \u001b[43m    \u001b[49m\u001b[43mremaining_retries\u001b[49m\u001b[38;5;241;43m=\u001b[39;49m\u001b[43mremaining\u001b[49m\u001b[43m,\u001b[49m\n\u001b[1;32m   1025\u001b[0m \u001b[43m    \u001b[49m\u001b[43mstream\u001b[49m\u001b[38;5;241;43m=\u001b[39;49m\u001b[43mstream\u001b[49m\u001b[43m,\u001b[49m\n\u001b[1;32m   1026\u001b[0m \u001b[43m    \u001b[49m\u001b[43mstream_cls\u001b[49m\u001b[38;5;241;43m=\u001b[39;49m\u001b[43mstream_cls\u001b[49m\u001b[43m,\u001b[49m\n\u001b[1;32m   1027\u001b[0m \u001b[43m\u001b[49m\u001b[43m)\u001b[49m\n",
      "File \u001b[0;32m~/opt/anaconda3/lib/python3.9/site-packages/openai/_base_client.py:973\u001b[0m, in \u001b[0;36mSyncAPIClient._request\u001b[0;34m(self, cast_to, options, remaining_retries, stream, stream_cls)\u001b[0m\n\u001b[1;32m    971\u001b[0m \u001b[38;5;28;01mif\u001b[39;00m retries \u001b[38;5;241m>\u001b[39m \u001b[38;5;241m0\u001b[39m \u001b[38;5;129;01mand\u001b[39;00m \u001b[38;5;28mself\u001b[39m\u001b[38;5;241m.\u001b[39m_should_retry(err\u001b[38;5;241m.\u001b[39mresponse):\n\u001b[1;32m    972\u001b[0m     err\u001b[38;5;241m.\u001b[39mresponse\u001b[38;5;241m.\u001b[39mclose()\n\u001b[0;32m--> 973\u001b[0m     \u001b[38;5;28;01mreturn\u001b[39;00m \u001b[38;5;28;43mself\u001b[39;49m\u001b[38;5;241;43m.\u001b[39;49m\u001b[43m_retry_request\u001b[49m\u001b[43m(\u001b[49m\n\u001b[1;32m    974\u001b[0m \u001b[43m        \u001b[49m\u001b[43moptions\u001b[49m\u001b[43m,\u001b[49m\n\u001b[1;32m    975\u001b[0m \u001b[43m        \u001b[49m\u001b[43mcast_to\u001b[49m\u001b[43m,\u001b[49m\n\u001b[1;32m    976\u001b[0m \u001b[43m        \u001b[49m\u001b[43mretries\u001b[49m\u001b[43m,\u001b[49m\n\u001b[1;32m    977\u001b[0m \u001b[43m        \u001b[49m\u001b[43merr\u001b[49m\u001b[38;5;241;43m.\u001b[39;49m\u001b[43mresponse\u001b[49m\u001b[38;5;241;43m.\u001b[39;49m\u001b[43mheaders\u001b[49m\u001b[43m,\u001b[49m\n\u001b[1;32m    978\u001b[0m \u001b[43m        \u001b[49m\u001b[43mstream\u001b[49m\u001b[38;5;241;43m=\u001b[39;49m\u001b[43mstream\u001b[49m\u001b[43m,\u001b[49m\n\u001b[1;32m    979\u001b[0m \u001b[43m        \u001b[49m\u001b[43mstream_cls\u001b[49m\u001b[38;5;241;43m=\u001b[39;49m\u001b[43mstream_cls\u001b[49m\u001b[43m,\u001b[49m\n\u001b[1;32m    980\u001b[0m \u001b[43m    \u001b[49m\u001b[43m)\u001b[49m\n\u001b[1;32m    982\u001b[0m \u001b[38;5;66;03m# If the response is streamed then we need to explicitly read the response\u001b[39;00m\n\u001b[1;32m    983\u001b[0m \u001b[38;5;66;03m# to completion before attempting to access the response text.\u001b[39;00m\n\u001b[1;32m    984\u001b[0m \u001b[38;5;28;01mif\u001b[39;00m \u001b[38;5;129;01mnot\u001b[39;00m err\u001b[38;5;241m.\u001b[39mresponse\u001b[38;5;241m.\u001b[39mis_closed:\n",
      "File \u001b[0;32m~/opt/anaconda3/lib/python3.9/site-packages/openai/_base_client.py:1021\u001b[0m, in \u001b[0;36mSyncAPIClient._retry_request\u001b[0;34m(self, options, cast_to, remaining_retries, response_headers, stream, stream_cls)\u001b[0m\n\u001b[1;32m   1017\u001b[0m \u001b[38;5;66;03m# In a synchronous context we are blocking the entire thread. Up to the library user to run the client in a\u001b[39;00m\n\u001b[1;32m   1018\u001b[0m \u001b[38;5;66;03m# different thread if necessary.\u001b[39;00m\n\u001b[1;32m   1019\u001b[0m time\u001b[38;5;241m.\u001b[39msleep(timeout)\n\u001b[0;32m-> 1021\u001b[0m \u001b[38;5;28;01mreturn\u001b[39;00m \u001b[38;5;28;43mself\u001b[39;49m\u001b[38;5;241;43m.\u001b[39;49m\u001b[43m_request\u001b[49m\u001b[43m(\u001b[49m\n\u001b[1;32m   1022\u001b[0m \u001b[43m    \u001b[49m\u001b[43moptions\u001b[49m\u001b[38;5;241;43m=\u001b[39;49m\u001b[43moptions\u001b[49m\u001b[43m,\u001b[49m\n\u001b[1;32m   1023\u001b[0m \u001b[43m    \u001b[49m\u001b[43mcast_to\u001b[49m\u001b[38;5;241;43m=\u001b[39;49m\u001b[43mcast_to\u001b[49m\u001b[43m,\u001b[49m\n\u001b[1;32m   1024\u001b[0m \u001b[43m    \u001b[49m\u001b[43mremaining_retries\u001b[49m\u001b[38;5;241;43m=\u001b[39;49m\u001b[43mremaining\u001b[49m\u001b[43m,\u001b[49m\n\u001b[1;32m   1025\u001b[0m \u001b[43m    \u001b[49m\u001b[43mstream\u001b[49m\u001b[38;5;241;43m=\u001b[39;49m\u001b[43mstream\u001b[49m\u001b[43m,\u001b[49m\n\u001b[1;32m   1026\u001b[0m \u001b[43m    \u001b[49m\u001b[43mstream_cls\u001b[49m\u001b[38;5;241;43m=\u001b[39;49m\u001b[43mstream_cls\u001b[49m\u001b[43m,\u001b[49m\n\u001b[1;32m   1027\u001b[0m \u001b[43m\u001b[49m\u001b[43m)\u001b[49m\n",
      "File \u001b[0;32m~/opt/anaconda3/lib/python3.9/site-packages/openai/_base_client.py:988\u001b[0m, in \u001b[0;36mSyncAPIClient._request\u001b[0;34m(self, cast_to, options, remaining_retries, stream, stream_cls)\u001b[0m\n\u001b[1;32m    985\u001b[0m         err\u001b[38;5;241m.\u001b[39mresponse\u001b[38;5;241m.\u001b[39mread()\n\u001b[1;32m    987\u001b[0m     log\u001b[38;5;241m.\u001b[39mdebug(\u001b[38;5;124m\"\u001b[39m\u001b[38;5;124mRe-raising status error\u001b[39m\u001b[38;5;124m\"\u001b[39m)\n\u001b[0;32m--> 988\u001b[0m     \u001b[38;5;28;01mraise\u001b[39;00m \u001b[38;5;28mself\u001b[39m\u001b[38;5;241m.\u001b[39m_make_status_error_from_response(err\u001b[38;5;241m.\u001b[39mresponse) \u001b[38;5;28;01mfrom\u001b[39;00m \u001b[38;5;28;01mNone\u001b[39;00m\n\u001b[1;32m    990\u001b[0m \u001b[38;5;28;01mreturn\u001b[39;00m \u001b[38;5;28mself\u001b[39m\u001b[38;5;241m.\u001b[39m_process_response(\n\u001b[1;32m    991\u001b[0m     cast_to\u001b[38;5;241m=\u001b[39mcast_to,\n\u001b[1;32m    992\u001b[0m     options\u001b[38;5;241m=\u001b[39moptions,\n\u001b[0;32m   (...)\u001b[0m\n\u001b[1;32m    995\u001b[0m     stream_cls\u001b[38;5;241m=\u001b[39mstream_cls,\n\u001b[1;32m    996\u001b[0m )\n",
      "\u001b[0;31mRateLimitError\u001b[0m: Error code: 429 - {'error': {'message': 'You exceeded your current quota, please check your plan and billing details. For more information on this error, read the docs: https://platform.openai.com/docs/guides/error-codes/api-errors.', 'type': 'insufficient_quota', 'param': None, 'code': 'insufficient_quota'}}"
     ]
    }
   ],
   "source": [
    "# import os\n",
    "# from openai import OpenAI\n",
    "\n",
    "# client = OpenAI(\n",
    "#     # This is the default and can be omitted\n",
    "#     api_key=os.environ.get(\"OPENAI_API_KEY\"),\n",
    "# )\n",
    "\n",
    "# chat_completion = client.chat.completions.create(\n",
    "#     messages=[\n",
    "#         {\n",
    "#             \"role\": \"user\",\n",
    "#             \"content\": \"Say this is a test\",\n",
    "#         }\n",
    "#     ],\n",
    "#     model=\"gpt-3.5-turbo\",\n",
    "# )"
   ]
  },
  {
   "cell_type": "markdown",
   "id": "4ee41ee9",
   "metadata": {},
   "source": [
    "### db check"
   ]
  },
  {
   "cell_type": "code",
   "execution_count": 3,
   "id": "d66c9851",
   "metadata": {},
   "outputs": [],
   "source": [
    "# Specify the file path for the DuckDB database\n",
    "db_path = '/Users/MacUser/hedonism-wines_app/database.db'  # Example path, replace with your desired path\n",
    "\n",
    "# Establish a connection to an in-memory DuckDB database\n",
    "conn = duckdb.connect(database=db_path, read_only=False)"
   ]
  },
  {
   "cell_type": "code",
   "execution_count": 6,
   "id": "1505bee5",
   "metadata": {},
   "outputs": [],
   "source": [
    "# Execute SQL queries to create a table only for whisky records\n",
    "results = conn.execute(\"\"\"SELECT COUNT (*),\n",
    "                          import_date\n",
    "                          FROM stocks_table \n",
    "                          GROUP BY import_date\n",
    "                          ORDER BY 2 DESC\n",
    "                \"\"\").fetchdf()\n",
    "\n",
    "# Convert the results to a DataFrame\n",
    "result_df = pd.DataFrame(results)"
   ]
  },
  {
   "cell_type": "code",
   "execution_count": 7,
   "id": "e3ba6e1c",
   "metadata": {},
   "outputs": [
    {
     "data": {
      "text/html": [
       "<div>\n",
       "<style scoped>\n",
       "    .dataframe tbody tr th:only-of-type {\n",
       "        vertical-align: middle;\n",
       "    }\n",
       "\n",
       "    .dataframe tbody tr th {\n",
       "        vertical-align: top;\n",
       "    }\n",
       "\n",
       "    .dataframe thead th {\n",
       "        text-align: right;\n",
       "    }\n",
       "</style>\n",
       "<table border=\"1\" class=\"dataframe\">\n",
       "  <thead>\n",
       "    <tr style=\"text-align: right;\">\n",
       "      <th></th>\n",
       "      <th>count_star()</th>\n",
       "      <th>import_date</th>\n",
       "    </tr>\n",
       "  </thead>\n",
       "  <tbody>\n",
       "    <tr>\n",
       "      <th>0</th>\n",
       "      <td>10419</td>\n",
       "      <td>2024-03-25</td>\n",
       "    </tr>\n",
       "    <tr>\n",
       "      <th>1</th>\n",
       "      <td>10436</td>\n",
       "      <td>2024-03-24</td>\n",
       "    </tr>\n",
       "    <tr>\n",
       "      <th>2</th>\n",
       "      <td>10493</td>\n",
       "      <td>2024-03-23</td>\n",
       "    </tr>\n",
       "  </tbody>\n",
       "</table>\n",
       "</div>"
      ],
      "text/plain": [
       "   count_star() import_date\n",
       "0         10419  2024-03-25\n",
       "1         10436  2024-03-24\n",
       "2         10493  2024-03-23"
      ]
     },
     "execution_count": 7,
     "metadata": {},
     "output_type": "execute_result"
    }
   ],
   "source": [
    "result_df"
   ]
  },
  {
   "cell_type": "code",
   "execution_count": null,
   "id": "ed8c1736",
   "metadata": {},
   "outputs": [],
   "source": []
  }
 ],
 "metadata": {
  "kernelspec": {
   "display_name": "Python 3 (ipykernel)",
   "language": "python",
   "name": "python3"
  },
  "language_info": {
   "codemirror_mode": {
    "name": "ipython",
    "version": 3
   },
   "file_extension": ".py",
   "mimetype": "text/x-python",
   "name": "python",
   "nbconvert_exporter": "python",
   "pygments_lexer": "ipython3",
   "version": "3.9.12"
  },
  "toc": {
   "base_numbering": 1,
   "nav_menu": {},
   "number_sections": true,
   "sideBar": true,
   "skip_h1_title": false,
   "title_cell": "Table of Contents",
   "title_sidebar": "Contents",
   "toc_cell": false,
   "toc_position": {},
   "toc_section_display": true,
   "toc_window_display": true
  }
 },
 "nbformat": 4,
 "nbformat_minor": 5
}
